{
 "cells": [
  {
   "cell_type": "code",
   "execution_count": 1,
   "metadata": {
    "id": "igMyGnjE9hEp"
   },
   "outputs": [
    {
     "name": "stderr",
     "output_type": "stream",
     "text": [
      "2024-09-02 05:43:24.027244: I tensorflow/core/util/port.cc:110] oneDNN custom operations are on. You may see slightly different numerical results due to floating-point round-off errors from different computation orders. To turn them off, set the environment variable `TF_ENABLE_ONEDNN_OPTS=0`.\n",
      "2024-09-02 05:43:24.029209: I tensorflow/tsl/cuda/cudart_stub.cc:28] Could not find cuda drivers on your machine, GPU will not be used.\n",
      "2024-09-02 05:43:24.069508: I tensorflow/tsl/cuda/cudart_stub.cc:28] Could not find cuda drivers on your machine, GPU will not be used.\n",
      "2024-09-02 05:43:24.070074: I tensorflow/core/platform/cpu_feature_guard.cc:182] This TensorFlow binary is optimized to use available CPU instructions in performance-critical operations.\n",
      "To enable the following instructions: AVX2 AVX_VNNI FMA, in other operations, rebuild TensorFlow with the appropriate compiler flags.\n",
      "2024-09-02 05:43:24.592884: W tensorflow/compiler/tf2tensorrt/utils/py_utils.cc:38] TF-TRT Warning: Could not find TensorRT\n"
     ]
    }
   ],
   "source": [
    "import csv\n",
    "\n",
    "import numpy as np\n",
    "import tensorflow as tf\n",
    "from sklearn.model_selection import train_test_split\n",
    "\n",
    "RANDOM_SEED = 42"
   ]
  },
  {
   "cell_type": "markdown",
   "metadata": {
    "id": "t2HDvhIu9hEr"
   },
   "source": [
    "# Specify each path"
   ]
  },
  {
   "cell_type": "code",
   "execution_count": 2,
   "metadata": {
    "id": "9NvZP2Zn9hEy"
   },
   "outputs": [],
   "source": [
    "dataset = '/home/jungle02/catkin_ws/src/ros_hand_gesture_recognition/src/model/keypoint_classifier/keypoint.csv'\n",
    "model_save_path = '/home/jungle02/catkin_ws/src/ros_hand_gesture_recognition/src/model/keypoint_classifier/keypoint_classifier.hdf5'\n",
    "tflite_save_path = '/home/jungle02/catkin_ws/src/ros_hand_gesture_recognition/src/model/keypoint_classifier/keypoint_classifier.tflite'"
   ]
  },
  {
   "cell_type": "markdown",
   "metadata": {
    "id": "s5oMH7x19hEz"
   },
   "source": [
    "# Set number of classes"
   ]
  },
  {
   "cell_type": "code",
   "execution_count": 3,
   "metadata": {
    "id": "du4kodXL9hEz"
   },
   "outputs": [],
   "source": [
    "NUM_CLASSES = 7"
   ]
  },
  {
   "cell_type": "markdown",
   "metadata": {
    "id": "XjnL0uso9hEz"
   },
   "source": [
    "# Dataset reading"
   ]
  },
  {
   "cell_type": "code",
   "execution_count": 4,
   "metadata": {
    "id": "QT5ZqtEz9hE0",
    "scrolled": true
   },
   "outputs": [],
   "source": [
    "X_dataset = np.loadtxt(dataset, delimiter=',', dtype='float32', usecols=list(range(1, (21 * 2) + 1)))"
   ]
  },
  {
   "cell_type": "code",
   "execution_count": 5,
   "metadata": {
    "id": "QmoKFsp49hE0"
   },
   "outputs": [],
   "source": [
    "y_dataset = np.loadtxt(dataset, delimiter=',', dtype='int32', usecols=(0))"
   ]
  },
  {
   "cell_type": "code",
   "execution_count": 6,
   "metadata": {
    "id": "xQU7JTZ_9hE0"
   },
   "outputs": [],
   "source": [
    "X_train, X_test, y_train, y_test = train_test_split(X_dataset, y_dataset, train_size=0.75, random_state=RANDOM_SEED)"
   ]
  },
  {
   "cell_type": "markdown",
   "metadata": {
    "id": "mxK_lETT9hE0"
   },
   "source": [
    "# Model building"
   ]
  },
  {
   "cell_type": "code",
   "execution_count": 7,
   "metadata": {
    "id": "vHBmUf1t9hE1"
   },
   "outputs": [],
   "source": [
    "model = tf.keras.models.Sequential([\n",
    "    tf.keras.layers.Input((21 * 2, )),\n",
    "    tf.keras.layers.Dropout(0.2),\n",
    "    tf.keras.layers.Dense(20, activation='relu'),\n",
    "    tf.keras.layers.Dropout(0.4),\n",
    "    tf.keras.layers.Dense(10, activation='relu'),\n",
    "    tf.keras.layers.Dense(NUM_CLASSES, activation='softmax')\n",
    "])"
   ]
  },
  {
   "cell_type": "code",
   "execution_count": 8,
   "metadata": {
    "colab": {
     "base_uri": "https://localhost:8080/"
    },
    "id": "ypqky9tc9hE1",
    "outputId": "5db082bb-30e3-4110-bf63-a1ee777ecd46"
   },
   "outputs": [
    {
     "name": "stdout",
     "output_type": "stream",
     "text": [
      "Model: \"sequential\"\n",
      "_________________________________________________________________\n",
      " Layer (type)                Output Shape              Param #   \n",
      "=================================================================\n",
      " dropout (Dropout)           (None, 42)                0         \n",
      "                                                                 \n",
      " dense (Dense)               (None, 20)                860       \n",
      "                                                                 \n",
      " dropout_1 (Dropout)         (None, 20)                0         \n",
      "                                                                 \n",
      " dense_1 (Dense)             (None, 10)                210       \n",
      "                                                                 \n",
      " dense_2 (Dense)             (None, 7)                 77        \n",
      "                                                                 \n",
      "=================================================================\n",
      "Total params: 1147 (4.48 KB)\n",
      "Trainable params: 1147 (4.48 KB)\n",
      "Non-trainable params: 0 (0.00 Byte)\n",
      "_________________________________________________________________\n"
     ]
    }
   ],
   "source": [
    "model.summary()  # tf.keras.utils.plot_model(model, show_shapes=True)"
   ]
  },
  {
   "cell_type": "code",
   "execution_count": 9,
   "metadata": {
    "id": "MbMjOflQ9hE1"
   },
   "outputs": [],
   "source": [
    "# Model checkpoint callback\n",
    "cp_callback = tf.keras.callbacks.ModelCheckpoint(\n",
    "    model_save_path, verbose=1, save_weights_only=False)\n",
    "# Callback for early stopping\n",
    "es_callback = tf.keras.callbacks.EarlyStopping(patience=20, verbose=1)"
   ]
  },
  {
   "cell_type": "code",
   "execution_count": 10,
   "metadata": {
    "id": "c3Dac0M_9hE2"
   },
   "outputs": [],
   "source": [
    "# Model compilation\n",
    "model.compile(\n",
    "    optimizer='adam',\n",
    "    loss='sparse_categorical_crossentropy',\n",
    "    metrics=['accuracy']\n",
    ")"
   ]
  },
  {
   "cell_type": "markdown",
   "metadata": {
    "id": "7XI0j1Iu9hE2"
   },
   "source": [
    "# Model training"
   ]
  },
  {
   "cell_type": "code",
   "execution_count": 11,
   "metadata": {
    "colab": {
     "base_uri": "https://localhost:8080/"
    },
    "id": "WirBl-JE9hE3",
    "outputId": "71b30ca2-8294-4d9d-8aa2-800d90d399de",
    "scrolled": true
   },
   "outputs": [
    {
     "name": "stdout",
     "output_type": "stream",
     "text": [
      "Epoch 1/1000\n",
      " 1/42 [..............................] - ETA: 16s - loss: 2.2769 - accuracy: 0.1484\n",
      "Epoch 1: saving model to /home/jungle02/catkin_ws/src/ros_hand_gesture_recognition/src/model/keypoint_classifier/keypoint_classifier.hdf5\n",
      "42/42 [==============================] - 1s 5ms/step - loss: 1.9322 - accuracy: 0.2432 - val_loss: 1.7151 - val_accuracy: 0.5102\n",
      "Epoch 2/1000\n",
      "42/42 [==============================] - ETA: 0s - loss: 1.6935 - accuracy: 0.3686\n",
      "Epoch 2: saving model to /home/jungle02/catkin_ws/src/ros_hand_gesture_recognition/src/model/keypoint_classifier/keypoint_classifier.hdf5\n",
      "42/42 [==============================] - 0s 2ms/step - loss: 1.6935 - accuracy: 0.3686 - val_loss: 1.4989 - val_accuracy: 0.5215\n",
      "Epoch 3/1000\n",
      " 1/42 [..............................] - ETA: 0s - loss: 1.5712 - accuracy: 0.3516\n",
      "Epoch 3: saving model to /home/jungle02/catkin_ws/src/ros_hand_gesture_recognition/src/model/keypoint_classifier/keypoint_classifier.hdf5\n",
      "42/42 [==============================] - 0s 2ms/step - loss: 1.5343 - accuracy: 0.3867 - val_loss: 1.3175 - val_accuracy: 0.5549\n"
     ]
    },
    {
     "name": "stderr",
     "output_type": "stream",
     "text": [
      "/home/jungle02/.local/lib/python3.8/site-packages/keras/src/engine/training.py:3000: UserWarning: You are saving your model as an HDF5 file via `model.save()`. This file format is considered legacy. We recommend using instead the native Keras format, e.g. `model.save('my_model.keras')`.\n",
      "  saving_api.save_model(\n"
     ]
    },
    {
     "name": "stdout",
     "output_type": "stream",
     "text": [
      "Epoch 4/1000\n",
      " 1/42 [..............................] - ETA: 0s - loss: 1.3831 - accuracy: 0.5078\n",
      "Epoch 4: saving model to /home/jungle02/catkin_ws/src/ros_hand_gesture_recognition/src/model/keypoint_classifier/keypoint_classifier.hdf5\n",
      "42/42 [==============================] - 0s 2ms/step - loss: 1.4030 - accuracy: 0.4335 - val_loss: 1.1895 - val_accuracy: 0.5701\n",
      "Epoch 5/1000\n",
      " 1/42 [..............................] - ETA: 0s - loss: 1.2972 - accuracy: 0.4453\n",
      "Epoch 5: saving model to /home/jungle02/catkin_ws/src/ros_hand_gesture_recognition/src/model/keypoint_classifier/keypoint_classifier.hdf5\n",
      "42/42 [==============================] - 0s 2ms/step - loss: 1.3114 - accuracy: 0.4595 - val_loss: 1.0853 - val_accuracy: 0.6035\n",
      "Epoch 6/1000\n",
      " 1/42 [..............................] - ETA: 0s - loss: 1.2416 - accuracy: 0.5078\n",
      "Epoch 6: saving model to /home/jungle02/catkin_ws/src/ros_hand_gesture_recognition/src/model/keypoint_classifier/keypoint_classifier.hdf5\n",
      "42/42 [==============================] - 0s 2ms/step - loss: 1.2367 - accuracy: 0.4884 - val_loss: 1.0016 - val_accuracy: 0.6912\n",
      "Epoch 7/1000\n",
      " 1/42 [..............................] - ETA: 0s - loss: 1.1959 - accuracy: 0.5469\n",
      "Epoch 7: saving model to /home/jungle02/catkin_ws/src/ros_hand_gesture_recognition/src/model/keypoint_classifier/keypoint_classifier.hdf5\n",
      "42/42 [==============================] - 0s 2ms/step - loss: 1.1759 - accuracy: 0.5222 - val_loss: 0.9272 - val_accuracy: 0.7477\n",
      "Epoch 8/1000\n",
      " 1/42 [..............................] - ETA: 0s - loss: 1.1525 - accuracy: 0.5312\n",
      "Epoch 8: saving model to /home/jungle02/catkin_ws/src/ros_hand_gesture_recognition/src/model/keypoint_classifier/keypoint_classifier.hdf5\n",
      "42/42 [==============================] - 0s 2ms/step - loss: 1.1176 - accuracy: 0.5622 - val_loss: 0.8601 - val_accuracy: 0.7596\n",
      "Epoch 9/1000\n",
      " 1/42 [..............................] - ETA: 0s - loss: 1.0044 - accuracy: 0.6328\n",
      "Epoch 9: saving model to /home/jungle02/catkin_ws/src/ros_hand_gesture_recognition/src/model/keypoint_classifier/keypoint_classifier.hdf5\n",
      "42/42 [==============================] - 0s 2ms/step - loss: 1.0524 - accuracy: 0.5982 - val_loss: 0.7796 - val_accuracy: 0.8128\n",
      "Epoch 10/1000\n",
      " 1/42 [..............................] - ETA: 0s - loss: 1.1165 - accuracy: 0.5625\n",
      "Epoch 10: saving model to /home/jungle02/catkin_ws/src/ros_hand_gesture_recognition/src/model/keypoint_classifier/keypoint_classifier.hdf5\n",
      "42/42 [==============================] - 0s 2ms/step - loss: 1.0037 - accuracy: 0.6229 - val_loss: 0.7195 - val_accuracy: 0.8173\n",
      "Epoch 11/1000\n",
      "38/42 [==========================>...] - ETA: 0s - loss: 0.9701 - accuracy: 0.6277\n",
      "Epoch 11: saving model to /home/jungle02/catkin_ws/src/ros_hand_gesture_recognition/src/model/keypoint_classifier/keypoint_classifier.hdf5\n",
      "42/42 [==============================] - 0s 3ms/step - loss: 0.9713 - accuracy: 0.6263 - val_loss: 0.6646 - val_accuracy: 0.8450\n",
      "Epoch 12/1000\n",
      "21/42 [==============>...............] - ETA: 0s - loss: 0.9202 - accuracy: 0.6611\n",
      "Epoch 12: saving model to /home/jungle02/catkin_ws/src/ros_hand_gesture_recognition/src/model/keypoint_classifier/keypoint_classifier.hdf5\n",
      "42/42 [==============================] - 0s 4ms/step - loss: 0.9173 - accuracy: 0.6540 - val_loss: 0.6121 - val_accuracy: 0.8512\n",
      "Epoch 13/1000\n",
      "37/42 [=========================>....] - ETA: 0s - loss: 0.8855 - accuracy: 0.6609\n",
      "Epoch 13: saving model to /home/jungle02/catkin_ws/src/ros_hand_gesture_recognition/src/model/keypoint_classifier/keypoint_classifier.hdf5\n",
      "42/42 [==============================] - 0s 3ms/step - loss: 0.8858 - accuracy: 0.6612 - val_loss: 0.5723 - val_accuracy: 0.8620\n",
      "Epoch 14/1000\n",
      "37/42 [=========================>....] - ETA: 0s - loss: 0.8667 - accuracy: 0.6664\n",
      "Epoch 14: saving model to /home/jungle02/catkin_ws/src/ros_hand_gesture_recognition/src/model/keypoint_classifier/keypoint_classifier.hdf5\n",
      "42/42 [==============================] - 0s 3ms/step - loss: 0.8627 - accuracy: 0.6712 - val_loss: 0.5383 - val_accuracy: 0.8643\n",
      "Epoch 15/1000\n",
      "39/42 [==========================>...] - ETA: 0s - loss: 0.8294 - accuracy: 0.6857\n",
      "Epoch 15: saving model to /home/jungle02/catkin_ws/src/ros_hand_gesture_recognition/src/model/keypoint_classifier/keypoint_classifier.hdf5\n",
      "42/42 [==============================] - 0s 3ms/step - loss: 0.8305 - accuracy: 0.6848 - val_loss: 0.5073 - val_accuracy: 0.8756\n",
      "Epoch 16/1000\n",
      " 1/42 [..............................] - ETA: 0s - loss: 0.8285 - accuracy: 0.6797\n",
      "Epoch 16: saving model to /home/jungle02/catkin_ws/src/ros_hand_gesture_recognition/src/model/keypoint_classifier/keypoint_classifier.hdf5\n",
      "42/42 [==============================] - 0s 2ms/step - loss: 0.8106 - accuracy: 0.6910 - val_loss: 0.4863 - val_accuracy: 0.8818\n",
      "Epoch 17/1000\n",
      "39/42 [==========================>...] - ETA: 0s - loss: 0.7897 - accuracy: 0.6957\n",
      "Epoch 17: saving model to /home/jungle02/catkin_ws/src/ros_hand_gesture_recognition/src/model/keypoint_classifier/keypoint_classifier.hdf5\n",
      "42/42 [==============================] - 0s 3ms/step - loss: 0.7845 - accuracy: 0.6970 - val_loss: 0.4639 - val_accuracy: 0.8880\n",
      "Epoch 18/1000\n",
      " 1/42 [..............................] - ETA: 0s - loss: 0.8187 - accuracy: 0.6875\n",
      "Epoch 18: saving model to /home/jungle02/catkin_ws/src/ros_hand_gesture_recognition/src/model/keypoint_classifier/keypoint_classifier.hdf5\n",
      "42/42 [==============================] - 0s 2ms/step - loss: 0.7565 - accuracy: 0.7057 - val_loss: 0.4438 - val_accuracy: 0.8903\n",
      "Epoch 19/1000\n",
      " 1/42 [..............................] - ETA: 0s - loss: 0.7645 - accuracy: 0.6875\n",
      "Epoch 19: saving model to /home/jungle02/catkin_ws/src/ros_hand_gesture_recognition/src/model/keypoint_classifier/keypoint_classifier.hdf5\n",
      "42/42 [==============================] - 0s 2ms/step - loss: 0.7495 - accuracy: 0.7042 - val_loss: 0.4235 - val_accuracy: 0.8937\n",
      "Epoch 20/1000\n",
      "37/42 [=========================>....] - ETA: 0s - loss: 0.7326 - accuracy: 0.7166\n",
      "Epoch 20: saving model to /home/jungle02/catkin_ws/src/ros_hand_gesture_recognition/src/model/keypoint_classifier/keypoint_classifier.hdf5\n",
      "42/42 [==============================] - 0s 3ms/step - loss: 0.7330 - accuracy: 0.7157 - val_loss: 0.4071 - val_accuracy: 0.8999\n",
      "Epoch 21/1000\n",
      " 1/42 [..............................] - ETA: 0s - loss: 0.6981 - accuracy: 0.7344\n",
      "Epoch 21: saving model to /home/jungle02/catkin_ws/src/ros_hand_gesture_recognition/src/model/keypoint_classifier/keypoint_classifier.hdf5\n",
      "42/42 [==============================] - 0s 2ms/step - loss: 0.7441 - accuracy: 0.7180 - val_loss: 0.4019 - val_accuracy: 0.9016\n",
      "Epoch 22/1000\n",
      " 1/42 [..............................] - ETA: 0s - loss: 0.7199 - accuracy: 0.7578\n",
      "Epoch 22: saving model to /home/jungle02/catkin_ws/src/ros_hand_gesture_recognition/src/model/keypoint_classifier/keypoint_classifier.hdf5\n",
      "42/42 [==============================] - 0s 2ms/step - loss: 0.7200 - accuracy: 0.7223 - val_loss: 0.3867 - val_accuracy: 0.8982\n",
      "Epoch 23/1000\n",
      " 1/42 [..............................] - ETA: 0s - loss: 0.7261 - accuracy: 0.7422\n",
      "Epoch 23: saving model to /home/jungle02/catkin_ws/src/ros_hand_gesture_recognition/src/model/keypoint_classifier/keypoint_classifier.hdf5\n",
      "42/42 [==============================] - 0s 2ms/step - loss: 0.7068 - accuracy: 0.7312 - val_loss: 0.3773 - val_accuracy: 0.9050\n",
      "Epoch 24/1000\n",
      " 1/42 [..............................] - ETA: 0s - loss: 0.8698 - accuracy: 0.6016\n",
      "Epoch 24: saving model to /home/jungle02/catkin_ws/src/ros_hand_gesture_recognition/src/model/keypoint_classifier/keypoint_classifier.hdf5\n",
      "42/42 [==============================] - 0s 2ms/step - loss: 0.7015 - accuracy: 0.7206 - val_loss: 0.3673 - val_accuracy: 0.9027\n",
      "Epoch 25/1000\n",
      " 1/42 [..............................] - ETA: 0s - loss: 0.6636 - accuracy: 0.7266\n",
      "Epoch 25: saving model to /home/jungle02/catkin_ws/src/ros_hand_gesture_recognition/src/model/keypoint_classifier/keypoint_classifier.hdf5\n",
      "42/42 [==============================] - 0s 2ms/step - loss: 0.6761 - accuracy: 0.7491 - val_loss: 0.3437 - val_accuracy: 0.9089\n",
      "Epoch 26/1000\n",
      " 1/42 [..............................] - ETA: 0s - loss: 0.6446 - accuracy: 0.7266\n",
      "Epoch 26: saving model to /home/jungle02/catkin_ws/src/ros_hand_gesture_recognition/src/model/keypoint_classifier/keypoint_classifier.hdf5\n",
      "42/42 [==============================] - 0s 2ms/step - loss: 0.6690 - accuracy: 0.7497 - val_loss: 0.3406 - val_accuracy: 0.9067\n",
      "Epoch 27/1000\n",
      " 1/42 [..............................] - ETA: 0s - loss: 0.7816 - accuracy: 0.6562\n",
      "Epoch 27: saving model to /home/jungle02/catkin_ws/src/ros_hand_gesture_recognition/src/model/keypoint_classifier/keypoint_classifier.hdf5\n",
      "42/42 [==============================] - 0s 2ms/step - loss: 0.6776 - accuracy: 0.7419 - val_loss: 0.3319 - val_accuracy: 0.9089\n",
      "Epoch 28/1000\n",
      " 1/42 [..............................] - ETA: 0s - loss: 0.5376 - accuracy: 0.8047\n",
      "Epoch 28: saving model to /home/jungle02/catkin_ws/src/ros_hand_gesture_recognition/src/model/keypoint_classifier/keypoint_classifier.hdf5\n",
      "42/42 [==============================] - 0s 2ms/step - loss: 0.6724 - accuracy: 0.7448 - val_loss: 0.3227 - val_accuracy: 0.9089\n",
      "Epoch 29/1000\n",
      " 1/42 [..............................] - ETA: 0s - loss: 0.5691 - accuracy: 0.8281\n",
      "Epoch 29: saving model to /home/jungle02/catkin_ws/src/ros_hand_gesture_recognition/src/model/keypoint_classifier/keypoint_classifier.hdf5\n",
      "42/42 [==============================] - 0s 2ms/step - loss: 0.6573 - accuracy: 0.7485 - val_loss: 0.3222 - val_accuracy: 0.9095\n",
      "Epoch 30/1000\n",
      " 1/42 [..............................] - ETA: 0s - loss: 0.6092 - accuracy: 0.7422\n",
      "Epoch 30: saving model to /home/jungle02/catkin_ws/src/ros_hand_gesture_recognition/src/model/keypoint_classifier/keypoint_classifier.hdf5\n",
      "42/42 [==============================] - 0s 2ms/step - loss: 0.6464 - accuracy: 0.7536 - val_loss: 0.3170 - val_accuracy: 0.9146\n",
      "Epoch 31/1000\n",
      "35/42 [========================>.....] - ETA: 0s - loss: 0.6313 - accuracy: 0.7625\n",
      "Epoch 31: saving model to /home/jungle02/catkin_ws/src/ros_hand_gesture_recognition/src/model/keypoint_classifier/keypoint_classifier.hdf5\n",
      "42/42 [==============================] - 0s 3ms/step - loss: 0.6323 - accuracy: 0.7616 - val_loss: 0.3075 - val_accuracy: 0.9129\n",
      "Epoch 32/1000\n",
      " 1/42 [..............................] - ETA: 0s - loss: 0.6528 - accuracy: 0.7188\n",
      "Epoch 32: saving model to /home/jungle02/catkin_ws/src/ros_hand_gesture_recognition/src/model/keypoint_classifier/keypoint_classifier.hdf5\n",
      "42/42 [==============================] - 0s 2ms/step - loss: 0.6309 - accuracy: 0.7634 - val_loss: 0.2915 - val_accuracy: 0.9146\n",
      "Epoch 33/1000\n",
      "35/42 [========================>.....] - ETA: 0s - loss: 0.6333 - accuracy: 0.7592\n",
      "Epoch 33: saving model to /home/jungle02/catkin_ws/src/ros_hand_gesture_recognition/src/model/keypoint_classifier/keypoint_classifier.hdf5\n",
      "42/42 [==============================] - 0s 2ms/step - loss: 0.6260 - accuracy: 0.7631 - val_loss: 0.2861 - val_accuracy: 0.9135\n",
      "Epoch 34/1000\n",
      " 1/42 [..............................] - ETA: 0s - loss: 0.6087 - accuracy: 0.7656\n",
      "Epoch 34: saving model to /home/jungle02/catkin_ws/src/ros_hand_gesture_recognition/src/model/keypoint_classifier/keypoint_classifier.hdf5\n",
      "42/42 [==============================] - 0s 2ms/step - loss: 0.6174 - accuracy: 0.7638 - val_loss: 0.2810 - val_accuracy: 0.9197\n",
      "Epoch 35/1000\n",
      " 1/42 [..............................] - ETA: 0s - loss: 0.6714 - accuracy: 0.7109\n",
      "Epoch 35: saving model to /home/jungle02/catkin_ws/src/ros_hand_gesture_recognition/src/model/keypoint_classifier/keypoint_classifier.hdf5\n",
      "42/42 [==============================] - 0s 2ms/step - loss: 0.6141 - accuracy: 0.7687 - val_loss: 0.2767 - val_accuracy: 0.9191\n",
      "Epoch 36/1000\n",
      " 1/42 [..............................] - ETA: 0s - loss: 0.5778 - accuracy: 0.7734\n",
      "Epoch 36: saving model to /home/jungle02/catkin_ws/src/ros_hand_gesture_recognition/src/model/keypoint_classifier/keypoint_classifier.hdf5\n",
      "42/42 [==============================] - 0s 2ms/step - loss: 0.6002 - accuracy: 0.7776 - val_loss: 0.2704 - val_accuracy: 0.9242\n",
      "Epoch 37/1000\n",
      " 1/42 [..............................] - ETA: 0s - loss: 0.6285 - accuracy: 0.8125\n",
      "Epoch 37: saving model to /home/jungle02/catkin_ws/src/ros_hand_gesture_recognition/src/model/keypoint_classifier/keypoint_classifier.hdf5\n",
      "42/42 [==============================] - 0s 2ms/step - loss: 0.6000 - accuracy: 0.7742 - val_loss: 0.2672 - val_accuracy: 0.9214\n",
      "Epoch 38/1000\n",
      " 1/42 [..............................] - ETA: 0s - loss: 0.5748 - accuracy: 0.8047\n",
      "Epoch 38: saving model to /home/jungle02/catkin_ws/src/ros_hand_gesture_recognition/src/model/keypoint_classifier/keypoint_classifier.hdf5\n",
      "42/42 [==============================] - 0s 2ms/step - loss: 0.5901 - accuracy: 0.7834 - val_loss: 0.2636 - val_accuracy: 0.9214\n",
      "Epoch 39/1000\n",
      " 1/42 [..............................] - ETA: 0s - loss: 0.6595 - accuracy: 0.6953\n",
      "Epoch 39: saving model to /home/jungle02/catkin_ws/src/ros_hand_gesture_recognition/src/model/keypoint_classifier/keypoint_classifier.hdf5\n",
      "42/42 [==============================] - 0s 2ms/step - loss: 0.5895 - accuracy: 0.7772 - val_loss: 0.2601 - val_accuracy: 0.9202\n",
      "Epoch 40/1000\n",
      " 1/42 [..............................] - ETA: 0s - loss: 0.5790 - accuracy: 0.7578\n",
      "Epoch 40: saving model to /home/jungle02/catkin_ws/src/ros_hand_gesture_recognition/src/model/keypoint_classifier/keypoint_classifier.hdf5\n",
      "42/42 [==============================] - 0s 2ms/step - loss: 0.5978 - accuracy: 0.7731 - val_loss: 0.2595 - val_accuracy: 0.9202\n",
      "Epoch 41/1000\n",
      " 1/42 [..............................] - ETA: 0s - loss: 0.6121 - accuracy: 0.7500\n",
      "Epoch 41: saving model to /home/jungle02/catkin_ws/src/ros_hand_gesture_recognition/src/model/keypoint_classifier/keypoint_classifier.hdf5\n",
      "42/42 [==============================] - 0s 2ms/step - loss: 0.5816 - accuracy: 0.7861 - val_loss: 0.2497 - val_accuracy: 0.9321\n",
      "Epoch 42/1000\n",
      " 1/42 [..............................] - ETA: 0s - loss: 0.5179 - accuracy: 0.8438\n",
      "Epoch 42: saving model to /home/jungle02/catkin_ws/src/ros_hand_gesture_recognition/src/model/keypoint_classifier/keypoint_classifier.hdf5\n",
      "42/42 [==============================] - 0s 2ms/step - loss: 0.5861 - accuracy: 0.7797 - val_loss: 0.2495 - val_accuracy: 0.9276\n",
      "Epoch 43/1000\n",
      " 1/42 [..............................] - ETA: 0s - loss: 0.5751 - accuracy: 0.7344\n",
      "Epoch 43: saving model to /home/jungle02/catkin_ws/src/ros_hand_gesture_recognition/src/model/keypoint_classifier/keypoint_classifier.hdf5\n",
      "42/42 [==============================] - 0s 2ms/step - loss: 0.5683 - accuracy: 0.7802 - val_loss: 0.2440 - val_accuracy: 0.9287\n",
      "Epoch 44/1000\n",
      " 1/42 [..............................] - ETA: 0s - loss: 0.5881 - accuracy: 0.7656\n",
      "Epoch 44: saving model to /home/jungle02/catkin_ws/src/ros_hand_gesture_recognition/src/model/keypoint_classifier/keypoint_classifier.hdf5\n",
      "42/42 [==============================] - 0s 2ms/step - loss: 0.5607 - accuracy: 0.7893 - val_loss: 0.2398 - val_accuracy: 0.9287\n",
      "Epoch 45/1000\n",
      " 1/42 [..............................] - ETA: 0s - loss: 0.4914 - accuracy: 0.8125\n",
      "Epoch 45: saving model to /home/jungle02/catkin_ws/src/ros_hand_gesture_recognition/src/model/keypoint_classifier/keypoint_classifier.hdf5\n",
      "42/42 [==============================] - 0s 2ms/step - loss: 0.5703 - accuracy: 0.7842 - val_loss: 0.2328 - val_accuracy: 0.9270\n",
      "Epoch 46/1000\n",
      " 1/42 [..............................] - ETA: 0s - loss: 0.5915 - accuracy: 0.7969\n",
      "Epoch 46: saving model to /home/jungle02/catkin_ws/src/ros_hand_gesture_recognition/src/model/keypoint_classifier/keypoint_classifier.hdf5\n",
      "42/42 [==============================] - 0s 2ms/step - loss: 0.5705 - accuracy: 0.7900 - val_loss: 0.2301 - val_accuracy: 0.9253\n",
      "Epoch 47/1000\n",
      " 1/42 [..............................] - ETA: 0s - loss: 0.5270 - accuracy: 0.7891\n",
      "Epoch 47: saving model to /home/jungle02/catkin_ws/src/ros_hand_gesture_recognition/src/model/keypoint_classifier/keypoint_classifier.hdf5\n",
      "42/42 [==============================] - 0s 2ms/step - loss: 0.5495 - accuracy: 0.7972 - val_loss: 0.2220 - val_accuracy: 0.9338\n",
      "Epoch 48/1000\n",
      " 1/42 [..............................] - ETA: 0s - loss: 0.5381 - accuracy: 0.8125\n",
      "Epoch 48: saving model to /home/jungle02/catkin_ws/src/ros_hand_gesture_recognition/src/model/keypoint_classifier/keypoint_classifier.hdf5\n",
      "42/42 [==============================] - 0s 2ms/step - loss: 0.5420 - accuracy: 0.7944 - val_loss: 0.2276 - val_accuracy: 0.9355\n",
      "Epoch 49/1000\n",
      " 1/42 [..............................] - ETA: 0s - loss: 0.5445 - accuracy: 0.8047\n",
      "Epoch 49: saving model to /home/jungle02/catkin_ws/src/ros_hand_gesture_recognition/src/model/keypoint_classifier/keypoint_classifier.hdf5\n",
      "42/42 [==============================] - 0s 2ms/step - loss: 0.5614 - accuracy: 0.7932 - val_loss: 0.2252 - val_accuracy: 0.9367\n",
      "Epoch 50/1000\n",
      " 1/42 [..............................] - ETA: 0s - loss: 0.5373 - accuracy: 0.7891\n",
      "Epoch 50: saving model to /home/jungle02/catkin_ws/src/ros_hand_gesture_recognition/src/model/keypoint_classifier/keypoint_classifier.hdf5\n",
      "42/42 [==============================] - 0s 2ms/step - loss: 0.5347 - accuracy: 0.8025 - val_loss: 0.2202 - val_accuracy: 0.9406\n",
      "Epoch 51/1000\n",
      " 1/42 [..............................] - ETA: 0s - loss: 0.5793 - accuracy: 0.8047\n",
      "Epoch 51: saving model to /home/jungle02/catkin_ws/src/ros_hand_gesture_recognition/src/model/keypoint_classifier/keypoint_classifier.hdf5\n",
      "42/42 [==============================] - 0s 2ms/step - loss: 0.5555 - accuracy: 0.7951 - val_loss: 0.2167 - val_accuracy: 0.9389\n",
      "Epoch 52/1000\n",
      " 1/42 [..............................] - ETA: 0s - loss: 0.5952 - accuracy: 0.7734\n",
      "Epoch 52: saving model to /home/jungle02/catkin_ws/src/ros_hand_gesture_recognition/src/model/keypoint_classifier/keypoint_classifier.hdf5\n",
      "42/42 [==============================] - 0s 3ms/step - loss: 0.5233 - accuracy: 0.8106 - val_loss: 0.2089 - val_accuracy: 0.9400\n",
      "Epoch 53/1000\n",
      " 1/42 [..............................] - ETA: 0s - loss: 0.4914 - accuracy: 0.8281\n",
      "Epoch 53: saving model to /home/jungle02/catkin_ws/src/ros_hand_gesture_recognition/src/model/keypoint_classifier/keypoint_classifier.hdf5\n",
      "42/42 [==============================] - 0s 2ms/step - loss: 0.5285 - accuracy: 0.8063 - val_loss: 0.2094 - val_accuracy: 0.9412\n",
      "Epoch 54/1000\n",
      " 1/42 [..............................] - ETA: 0s - loss: 0.6375 - accuracy: 0.8047\n",
      "Epoch 54: saving model to /home/jungle02/catkin_ws/src/ros_hand_gesture_recognition/src/model/keypoint_classifier/keypoint_classifier.hdf5\n",
      "42/42 [==============================] - 0s 2ms/step - loss: 0.5251 - accuracy: 0.8066 - val_loss: 0.2129 - val_accuracy: 0.9417\n",
      "Epoch 55/1000\n",
      " 1/42 [..............................] - ETA: 0s - loss: 0.6634 - accuracy: 0.7500\n",
      "Epoch 55: saving model to /home/jungle02/catkin_ws/src/ros_hand_gesture_recognition/src/model/keypoint_classifier/keypoint_classifier.hdf5\n",
      "42/42 [==============================] - 0s 2ms/step - loss: 0.5478 - accuracy: 0.7917 - val_loss: 0.2125 - val_accuracy: 0.9406\n",
      "Epoch 56/1000\n",
      " 1/42 [..............................] - ETA: 0s - loss: 0.6503 - accuracy: 0.7734\n",
      "Epoch 56: saving model to /home/jungle02/catkin_ws/src/ros_hand_gesture_recognition/src/model/keypoint_classifier/keypoint_classifier.hdf5\n",
      "42/42 [==============================] - 0s 2ms/step - loss: 0.5254 - accuracy: 0.8057 - val_loss: 0.2031 - val_accuracy: 0.9412\n",
      "Epoch 57/1000\n",
      " 1/42 [..............................] - ETA: 0s - loss: 0.4579 - accuracy: 0.8281\n",
      "Epoch 57: saving model to /home/jungle02/catkin_ws/src/ros_hand_gesture_recognition/src/model/keypoint_classifier/keypoint_classifier.hdf5\n",
      "42/42 [==============================] - 0s 2ms/step - loss: 0.5108 - accuracy: 0.8153 - val_loss: 0.2015 - val_accuracy: 0.9400\n",
      "Epoch 58/1000\n",
      " 1/42 [..............................] - ETA: 0s - loss: 0.4432 - accuracy: 0.8516\n",
      "Epoch 58: saving model to /home/jungle02/catkin_ws/src/ros_hand_gesture_recognition/src/model/keypoint_classifier/keypoint_classifier.hdf5\n",
      "42/42 [==============================] - 0s 2ms/step - loss: 0.5227 - accuracy: 0.8093 - val_loss: 0.2004 - val_accuracy: 0.9417\n",
      "Epoch 59/1000\n",
      " 1/42 [..............................] - ETA: 0s - loss: 0.4285 - accuracy: 0.8750\n",
      "Epoch 59: saving model to /home/jungle02/catkin_ws/src/ros_hand_gesture_recognition/src/model/keypoint_classifier/keypoint_classifier.hdf5\n",
      "42/42 [==============================] - 0s 2ms/step - loss: 0.5110 - accuracy: 0.8172 - val_loss: 0.1916 - val_accuracy: 0.9474\n",
      "Epoch 60/1000\n",
      " 1/42 [..............................] - ETA: 0s - loss: 0.5374 - accuracy: 0.7656\n",
      "Epoch 60: saving model to /home/jungle02/catkin_ws/src/ros_hand_gesture_recognition/src/model/keypoint_classifier/keypoint_classifier.hdf5\n",
      "42/42 [==============================] - 0s 2ms/step - loss: 0.5003 - accuracy: 0.8155 - val_loss: 0.1878 - val_accuracy: 0.9446\n",
      "Epoch 61/1000\n",
      "41/42 [============================>.] - ETA: 0s - loss: 0.5033 - accuracy: 0.8129\n",
      "Epoch 61: saving model to /home/jungle02/catkin_ws/src/ros_hand_gesture_recognition/src/model/keypoint_classifier/keypoint_classifier.hdf5\n",
      "42/42 [==============================] - 0s 3ms/step - loss: 0.5031 - accuracy: 0.8127 - val_loss: 0.1914 - val_accuracy: 0.9429\n",
      "Epoch 62/1000\n",
      "39/42 [==========================>...] - ETA: 0s - loss: 0.4992 - accuracy: 0.8119\n",
      "Epoch 62: saving model to /home/jungle02/catkin_ws/src/ros_hand_gesture_recognition/src/model/keypoint_classifier/keypoint_classifier.hdf5\n",
      "42/42 [==============================] - 0s 5ms/step - loss: 0.5027 - accuracy: 0.8104 - val_loss: 0.1869 - val_accuracy: 0.9446\n",
      "Epoch 63/1000\n",
      "30/42 [====================>.........] - ETA: 0s - loss: 0.5070 - accuracy: 0.8094\n",
      "Epoch 63: saving model to /home/jungle02/catkin_ws/src/ros_hand_gesture_recognition/src/model/keypoint_classifier/keypoint_classifier.hdf5\n",
      "42/42 [==============================] - 0s 5ms/step - loss: 0.4989 - accuracy: 0.8155 - val_loss: 0.1886 - val_accuracy: 0.9440\n",
      "Epoch 64/1000\n",
      "42/42 [==============================] - ETA: 0s - loss: 0.5186 - accuracy: 0.8055\n",
      "Epoch 64: saving model to /home/jungle02/catkin_ws/src/ros_hand_gesture_recognition/src/model/keypoint_classifier/keypoint_classifier.hdf5\n",
      "42/42 [==============================] - 0s 5ms/step - loss: 0.5186 - accuracy: 0.8055 - val_loss: 0.1866 - val_accuracy: 0.9468\n",
      "Epoch 65/1000\n",
      "31/42 [=====================>........] - ETA: 0s - loss: 0.4925 - accuracy: 0.8196\n",
      "Epoch 65: saving model to /home/jungle02/catkin_ws/src/ros_hand_gesture_recognition/src/model/keypoint_classifier/keypoint_classifier.hdf5\n",
      "42/42 [==============================] - 0s 3ms/step - loss: 0.4919 - accuracy: 0.8227 - val_loss: 0.1850 - val_accuracy: 0.9491\n",
      "Epoch 66/1000\n",
      " 1/42 [..............................] - ETA: 0s - loss: 0.6263 - accuracy: 0.7422\n",
      "Epoch 66: saving model to /home/jungle02/catkin_ws/src/ros_hand_gesture_recognition/src/model/keypoint_classifier/keypoint_classifier.hdf5\n",
      "42/42 [==============================] - 0s 2ms/step - loss: 0.5048 - accuracy: 0.8121 - val_loss: 0.1781 - val_accuracy: 0.9474\n",
      "Epoch 67/1000\n",
      "40/42 [===========================>..] - ETA: 0s - loss: 0.4963 - accuracy: 0.8203\n",
      "Epoch 67: saving model to /home/jungle02/catkin_ws/src/ros_hand_gesture_recognition/src/model/keypoint_classifier/keypoint_classifier.hdf5\n",
      "42/42 [==============================] - 0s 3ms/step - loss: 0.4963 - accuracy: 0.8202 - val_loss: 0.1734 - val_accuracy: 0.9559\n",
      "Epoch 68/1000\n",
      "41/42 [============================>.] - ETA: 0s - loss: 0.5090 - accuracy: 0.8102\n",
      "Epoch 68: saving model to /home/jungle02/catkin_ws/src/ros_hand_gesture_recognition/src/model/keypoint_classifier/keypoint_classifier.hdf5\n",
      "42/42 [==============================] - 0s 3ms/step - loss: 0.5080 - accuracy: 0.8108 - val_loss: 0.1823 - val_accuracy: 0.9468\n",
      "Epoch 69/1000\n",
      "27/42 [==================>...........] - ETA: 0s - loss: 0.4866 - accuracy: 0.8229\n",
      "Epoch 69: saving model to /home/jungle02/catkin_ws/src/ros_hand_gesture_recognition/src/model/keypoint_classifier/keypoint_classifier.hdf5\n",
      "42/42 [==============================] - 0s 3ms/step - loss: 0.4825 - accuracy: 0.8236 - val_loss: 0.1743 - val_accuracy: 0.9502\n",
      "Epoch 70/1000\n",
      " 1/42 [..............................] - ETA: 0s - loss: 0.5053 - accuracy: 0.7891\n",
      "Epoch 70: saving model to /home/jungle02/catkin_ws/src/ros_hand_gesture_recognition/src/model/keypoint_classifier/keypoint_classifier.hdf5\n",
      "42/42 [==============================] - 0s 2ms/step - loss: 0.4866 - accuracy: 0.8204 - val_loss: 0.1715 - val_accuracy: 0.9502\n",
      "Epoch 71/1000\n",
      " 1/42 [..............................] - ETA: 0s - loss: 0.4560 - accuracy: 0.8594\n",
      "Epoch 71: saving model to /home/jungle02/catkin_ws/src/ros_hand_gesture_recognition/src/model/keypoint_classifier/keypoint_classifier.hdf5\n",
      "42/42 [==============================] - 0s 4ms/step - loss: 0.4851 - accuracy: 0.8253 - val_loss: 0.1688 - val_accuracy: 0.9536\n",
      "Epoch 72/1000\n",
      "32/42 [=====================>........] - ETA: 0s - loss: 0.4836 - accuracy: 0.8247\n",
      "Epoch 72: saving model to /home/jungle02/catkin_ws/src/ros_hand_gesture_recognition/src/model/keypoint_classifier/keypoint_classifier.hdf5\n",
      "42/42 [==============================] - 0s 6ms/step - loss: 0.4923 - accuracy: 0.8221 - val_loss: 0.1739 - val_accuracy: 0.9440\n",
      "Epoch 73/1000\n",
      "27/42 [==================>...........] - ETA: 0s - loss: 0.4633 - accuracy: 0.8290\n",
      "Epoch 73: saving model to /home/jungle02/catkin_ws/src/ros_hand_gesture_recognition/src/model/keypoint_classifier/keypoint_classifier.hdf5\n",
      "42/42 [==============================] - 0s 5ms/step - loss: 0.4730 - accuracy: 0.8261 - val_loss: 0.1687 - val_accuracy: 0.9457\n",
      "Epoch 74/1000\n",
      "27/42 [==================>...........] - ETA: 0s - loss: 0.5061 - accuracy: 0.8015\n",
      "Epoch 74: saving model to /home/jungle02/catkin_ws/src/ros_hand_gesture_recognition/src/model/keypoint_classifier/keypoint_classifier.hdf5\n",
      "42/42 [==============================] - 0s 4ms/step - loss: 0.4969 - accuracy: 0.8083 - val_loss: 0.1669 - val_accuracy: 0.9480\n",
      "Epoch 75/1000\n",
      "42/42 [==============================] - ETA: 0s - loss: 0.4746 - accuracy: 0.8232\n",
      "Epoch 75: saving model to /home/jungle02/catkin_ws/src/ros_hand_gesture_recognition/src/model/keypoint_classifier/keypoint_classifier.hdf5\n",
      "42/42 [==============================] - 0s 6ms/step - loss: 0.4746 - accuracy: 0.8232 - val_loss: 0.1599 - val_accuracy: 0.9502\n",
      "Epoch 76/1000\n",
      "24/42 [================>.............] - ETA: 0s - loss: 0.4697 - accuracy: 0.8291\n",
      "Epoch 76: saving model to /home/jungle02/catkin_ws/src/ros_hand_gesture_recognition/src/model/keypoint_classifier/keypoint_classifier.hdf5\n",
      "42/42 [==============================] - 0s 4ms/step - loss: 0.4747 - accuracy: 0.8223 - val_loss: 0.1647 - val_accuracy: 0.9497\n",
      "Epoch 77/1000\n",
      "25/42 [================>.............] - ETA: 0s - loss: 0.4713 - accuracy: 0.8281\n",
      "Epoch 77: saving model to /home/jungle02/catkin_ws/src/ros_hand_gesture_recognition/src/model/keypoint_classifier/keypoint_classifier.hdf5\n",
      "42/42 [==============================] - 0s 4ms/step - loss: 0.4766 - accuracy: 0.8246 - val_loss: 0.1651 - val_accuracy: 0.9497\n",
      "Epoch 78/1000\n",
      "32/42 [=====================>........] - ETA: 0s - loss: 0.4910 - accuracy: 0.8167\n",
      "Epoch 78: saving model to /home/jungle02/catkin_ws/src/ros_hand_gesture_recognition/src/model/keypoint_classifier/keypoint_classifier.hdf5\n",
      "42/42 [==============================] - 0s 5ms/step - loss: 0.4870 - accuracy: 0.8180 - val_loss: 0.1636 - val_accuracy: 0.9553\n",
      "Epoch 79/1000\n",
      "23/42 [===============>..............] - ETA: 0s - loss: 0.4482 - accuracy: 0.8407\n",
      "Epoch 79: saving model to /home/jungle02/catkin_ws/src/ros_hand_gesture_recognition/src/model/keypoint_classifier/keypoint_classifier.hdf5\n",
      "42/42 [==============================] - 0s 5ms/step - loss: 0.4594 - accuracy: 0.8351 - val_loss: 0.1622 - val_accuracy: 0.9514\n",
      "Epoch 80/1000\n",
      "28/42 [===================>..........] - ETA: 0s - loss: 0.4762 - accuracy: 0.8220\n",
      "Epoch 80: saving model to /home/jungle02/catkin_ws/src/ros_hand_gesture_recognition/src/model/keypoint_classifier/keypoint_classifier.hdf5\n",
      "42/42 [==============================] - 0s 5ms/step - loss: 0.4754 - accuracy: 0.8234 - val_loss: 0.1652 - val_accuracy: 0.9553\n",
      "Epoch 81/1000\n",
      "28/42 [===================>..........] - ETA: 0s - loss: 0.4852 - accuracy: 0.8253\n",
      "Epoch 81: saving model to /home/jungle02/catkin_ws/src/ros_hand_gesture_recognition/src/model/keypoint_classifier/keypoint_classifier.hdf5\n",
      "42/42 [==============================] - 0s 5ms/step - loss: 0.4822 - accuracy: 0.8268 - val_loss: 0.1675 - val_accuracy: 0.9468\n",
      "Epoch 82/1000\n",
      "37/42 [=========================>....] - ETA: 0s - loss: 0.4756 - accuracy: 0.8247\n",
      "Epoch 82: saving model to /home/jungle02/catkin_ws/src/ros_hand_gesture_recognition/src/model/keypoint_classifier/keypoint_classifier.hdf5\n",
      "42/42 [==============================] - 0s 5ms/step - loss: 0.4748 - accuracy: 0.8264 - val_loss: 0.1592 - val_accuracy: 0.9502\n",
      "Epoch 83/1000\n",
      "30/42 [====================>.........] - ETA: 0s - loss: 0.4702 - accuracy: 0.8224\n",
      "Epoch 83: saving model to /home/jungle02/catkin_ws/src/ros_hand_gesture_recognition/src/model/keypoint_classifier/keypoint_classifier.hdf5\n",
      "42/42 [==============================] - 0s 7ms/step - loss: 0.4747 - accuracy: 0.8219 - val_loss: 0.1598 - val_accuracy: 0.9531\n",
      "Epoch 84/1000\n",
      "23/42 [===============>..............] - ETA: 0s - loss: 0.4465 - accuracy: 0.8404\n",
      "Epoch 84: saving model to /home/jungle02/catkin_ws/src/ros_hand_gesture_recognition/src/model/keypoint_classifier/keypoint_classifier.hdf5\n",
      "42/42 [==============================] - 0s 5ms/step - loss: 0.4387 - accuracy: 0.8421 - val_loss: 0.1573 - val_accuracy: 0.9525\n",
      "Epoch 85/1000\n",
      "37/42 [=========================>....] - ETA: 0s - loss: 0.4587 - accuracy: 0.8304\n",
      "Epoch 85: saving model to /home/jungle02/catkin_ws/src/ros_hand_gesture_recognition/src/model/keypoint_classifier/keypoint_classifier.hdf5\n",
      "42/42 [==============================] - 0s 5ms/step - loss: 0.4554 - accuracy: 0.8323 - val_loss: 0.1597 - val_accuracy: 0.9508\n",
      "Epoch 86/1000\n",
      "27/42 [==================>...........] - ETA: 0s - loss: 0.4817 - accuracy: 0.8220\n",
      "Epoch 86: saving model to /home/jungle02/catkin_ws/src/ros_hand_gesture_recognition/src/model/keypoint_classifier/keypoint_classifier.hdf5\n",
      "42/42 [==============================] - 0s 5ms/step - loss: 0.4734 - accuracy: 0.8264 - val_loss: 0.1554 - val_accuracy: 0.9593\n",
      "Epoch 87/1000\n",
      "31/42 [=====================>........] - ETA: 0s - loss: 0.4731 - accuracy: 0.8246\n",
      "Epoch 87: saving model to /home/jungle02/catkin_ws/src/ros_hand_gesture_recognition/src/model/keypoint_classifier/keypoint_classifier.hdf5\n",
      "42/42 [==============================] - 0s 4ms/step - loss: 0.4656 - accuracy: 0.8255 - val_loss: 0.1554 - val_accuracy: 0.9604\n",
      "Epoch 88/1000\n",
      "28/42 [===================>..........] - ETA: 0s - loss: 0.4783 - accuracy: 0.8239\n",
      "Epoch 88: saving model to /home/jungle02/catkin_ws/src/ros_hand_gesture_recognition/src/model/keypoint_classifier/keypoint_classifier.hdf5\n",
      "42/42 [==============================] - 0s 4ms/step - loss: 0.4722 - accuracy: 0.8255 - val_loss: 0.1547 - val_accuracy: 0.9548\n",
      "Epoch 89/1000\n",
      "37/42 [=========================>....] - ETA: 0s - loss: 0.4506 - accuracy: 0.8376\n",
      "Epoch 89: saving model to /home/jungle02/catkin_ws/src/ros_hand_gesture_recognition/src/model/keypoint_classifier/keypoint_classifier.hdf5\n",
      "42/42 [==============================] - 0s 8ms/step - loss: 0.4525 - accuracy: 0.8363 - val_loss: 0.1482 - val_accuracy: 0.9559\n",
      "Epoch 90/1000\n",
      "30/42 [====================>.........] - ETA: 0s - loss: 0.4616 - accuracy: 0.8294\n",
      "Epoch 90: saving model to /home/jungle02/catkin_ws/src/ros_hand_gesture_recognition/src/model/keypoint_classifier/keypoint_classifier.hdf5\n",
      "42/42 [==============================] - 0s 4ms/step - loss: 0.4710 - accuracy: 0.8274 - val_loss: 0.1455 - val_accuracy: 0.9655\n",
      "Epoch 91/1000\n",
      "35/42 [========================>.....] - ETA: 0s - loss: 0.4671 - accuracy: 0.8281\n",
      "Epoch 91: saving model to /home/jungle02/catkin_ws/src/ros_hand_gesture_recognition/src/model/keypoint_classifier/keypoint_classifier.hdf5\n",
      "42/42 [==============================] - 0s 6ms/step - loss: 0.4660 - accuracy: 0.8276 - val_loss: 0.1568 - val_accuracy: 0.9587\n",
      "Epoch 92/1000\n",
      "37/42 [=========================>....] - ETA: 0s - loss: 0.4669 - accuracy: 0.8222\n",
      "Epoch 92: saving model to /home/jungle02/catkin_ws/src/ros_hand_gesture_recognition/src/model/keypoint_classifier/keypoint_classifier.hdf5\n",
      "42/42 [==============================] - 0s 6ms/step - loss: 0.4702 - accuracy: 0.8215 - val_loss: 0.1563 - val_accuracy: 0.9627\n",
      "Epoch 93/1000\n",
      "26/42 [=================>............] - ETA: 0s - loss: 0.4746 - accuracy: 0.8197\n",
      "Epoch 93: saving model to /home/jungle02/catkin_ws/src/ros_hand_gesture_recognition/src/model/keypoint_classifier/keypoint_classifier.hdf5\n",
      "42/42 [==============================] - 0s 4ms/step - loss: 0.4729 - accuracy: 0.8214 - val_loss: 0.1465 - val_accuracy: 0.9593\n",
      "Epoch 94/1000\n",
      "33/42 [======================>.......] - ETA: 0s - loss: 0.4491 - accuracy: 0.8352\n",
      "Epoch 94: saving model to /home/jungle02/catkin_ws/src/ros_hand_gesture_recognition/src/model/keypoint_classifier/keypoint_classifier.hdf5\n",
      "42/42 [==============================] - 0s 4ms/step - loss: 0.4496 - accuracy: 0.8329 - val_loss: 0.1488 - val_accuracy: 0.9593\n",
      "Epoch 95/1000\n",
      "37/42 [=========================>....] - ETA: 0s - loss: 0.4797 - accuracy: 0.8233\n",
      "Epoch 95: saving model to /home/jungle02/catkin_ws/src/ros_hand_gesture_recognition/src/model/keypoint_classifier/keypoint_classifier.hdf5\n",
      "42/42 [==============================] - 0s 5ms/step - loss: 0.4796 - accuracy: 0.8223 - val_loss: 0.1446 - val_accuracy: 0.9615\n",
      "Epoch 96/1000\n",
      "27/42 [==================>...........] - ETA: 0s - loss: 0.4589 - accuracy: 0.8322\n",
      "Epoch 96: saving model to /home/jungle02/catkin_ws/src/ros_hand_gesture_recognition/src/model/keypoint_classifier/keypoint_classifier.hdf5\n",
      "42/42 [==============================] - 0s 4ms/step - loss: 0.4634 - accuracy: 0.8300 - val_loss: 0.1497 - val_accuracy: 0.9632\n",
      "Epoch 97/1000\n",
      "29/42 [===================>..........] - ETA: 0s - loss: 0.4760 - accuracy: 0.8273\n",
      "Epoch 97: saving model to /home/jungle02/catkin_ws/src/ros_hand_gesture_recognition/src/model/keypoint_classifier/keypoint_classifier.hdf5\n",
      "42/42 [==============================] - 0s 4ms/step - loss: 0.4650 - accuracy: 0.8308 - val_loss: 0.1494 - val_accuracy: 0.9587\n",
      "Epoch 98/1000\n",
      "39/42 [==========================>...] - ETA: 0s - loss: 0.4550 - accuracy: 0.8351\n",
      "Epoch 98: saving model to /home/jungle02/catkin_ws/src/ros_hand_gesture_recognition/src/model/keypoint_classifier/keypoint_classifier.hdf5\n",
      "42/42 [==============================] - 0s 5ms/step - loss: 0.4526 - accuracy: 0.8355 - val_loss: 0.1483 - val_accuracy: 0.9536\n",
      "Epoch 99/1000\n",
      "33/42 [======================>.......] - ETA: 0s - loss: 0.4608 - accuracy: 0.8293\n",
      "Epoch 99: saving model to /home/jungle02/catkin_ws/src/ros_hand_gesture_recognition/src/model/keypoint_classifier/keypoint_classifier.hdf5\n",
      "42/42 [==============================] - 0s 6ms/step - loss: 0.4603 - accuracy: 0.8310 - val_loss: 0.1447 - val_accuracy: 0.9570\n",
      "Epoch 100/1000\n",
      "42/42 [==============================] - ETA: 0s - loss: 0.4730 - accuracy: 0.8221\n",
      "Epoch 100: saving model to /home/jungle02/catkin_ws/src/ros_hand_gesture_recognition/src/model/keypoint_classifier/keypoint_classifier.hdf5\n",
      "42/42 [==============================] - 0s 5ms/step - loss: 0.4730 - accuracy: 0.8221 - val_loss: 0.1460 - val_accuracy: 0.9564\n",
      "Epoch 101/1000\n",
      "37/42 [=========================>....] - ETA: 0s - loss: 0.4459 - accuracy: 0.8370\n",
      "Epoch 101: saving model to /home/jungle02/catkin_ws/src/ros_hand_gesture_recognition/src/model/keypoint_classifier/keypoint_classifier.hdf5\n",
      "42/42 [==============================] - 0s 4ms/step - loss: 0.4469 - accuracy: 0.8374 - val_loss: 0.1441 - val_accuracy: 0.9502\n",
      "Epoch 102/1000\n",
      "36/42 [========================>.....] - ETA: 0s - loss: 0.4432 - accuracy: 0.8368\n",
      "Epoch 102: saving model to /home/jungle02/catkin_ws/src/ros_hand_gesture_recognition/src/model/keypoint_classifier/keypoint_classifier.hdf5\n",
      "42/42 [==============================] - 0s 4ms/step - loss: 0.4425 - accuracy: 0.8395 - val_loss: 0.1393 - val_accuracy: 0.9615\n",
      "Epoch 103/1000\n",
      "24/42 [================>.............] - ETA: 0s - loss: 0.4450 - accuracy: 0.8428\n",
      "Epoch 103: saving model to /home/jungle02/catkin_ws/src/ros_hand_gesture_recognition/src/model/keypoint_classifier/keypoint_classifier.hdf5\n",
      "42/42 [==============================] - 0s 4ms/step - loss: 0.4499 - accuracy: 0.8370 - val_loss: 0.1447 - val_accuracy: 0.9525\n",
      "Epoch 104/1000\n",
      "34/42 [=======================>......] - ETA: 0s - loss: 0.4527 - accuracy: 0.8325\n",
      "Epoch 104: saving model to /home/jungle02/catkin_ws/src/ros_hand_gesture_recognition/src/model/keypoint_classifier/keypoint_classifier.hdf5\n",
      "42/42 [==============================] - 0s 5ms/step - loss: 0.4421 - accuracy: 0.8366 - val_loss: 0.1394 - val_accuracy: 0.9564\n",
      "Epoch 105/1000\n",
      "33/42 [======================>.......] - ETA: 0s - loss: 0.4663 - accuracy: 0.8277\n",
      "Epoch 105: saving model to /home/jungle02/catkin_ws/src/ros_hand_gesture_recognition/src/model/keypoint_classifier/keypoint_classifier.hdf5\n",
      "42/42 [==============================] - 0s 6ms/step - loss: 0.4647 - accuracy: 0.8291 - val_loss: 0.1446 - val_accuracy: 0.9564\n",
      "Epoch 106/1000\n",
      "21/42 [==============>...............] - ETA: 0s - loss: 0.4361 - accuracy: 0.8385\n",
      "Epoch 106: saving model to /home/jungle02/catkin_ws/src/ros_hand_gesture_recognition/src/model/keypoint_classifier/keypoint_classifier.hdf5\n",
      "42/42 [==============================] - 0s 5ms/step - loss: 0.4429 - accuracy: 0.8378 - val_loss: 0.1455 - val_accuracy: 0.9548\n",
      "Epoch 107/1000\n",
      "28/42 [===================>..........] - ETA: 0s - loss: 0.4400 - accuracy: 0.8376\n",
      "Epoch 107: saving model to /home/jungle02/catkin_ws/src/ros_hand_gesture_recognition/src/model/keypoint_classifier/keypoint_classifier.hdf5\n",
      "42/42 [==============================] - 0s 5ms/step - loss: 0.4430 - accuracy: 0.8364 - val_loss: 0.1422 - val_accuracy: 0.9598\n",
      "Epoch 108/1000\n",
      "31/42 [=====================>........] - ETA: 0s - loss: 0.4347 - accuracy: 0.8372\n",
      "Epoch 108: saving model to /home/jungle02/catkin_ws/src/ros_hand_gesture_recognition/src/model/keypoint_classifier/keypoint_classifier.hdf5\n",
      "42/42 [==============================] - 0s 3ms/step - loss: 0.4380 - accuracy: 0.8372 - val_loss: 0.1441 - val_accuracy: 0.9593\n",
      "Epoch 109/1000\n",
      "40/42 [===========================>..] - ETA: 0s - loss: 0.4479 - accuracy: 0.8373\n",
      "Epoch 109: saving model to /home/jungle02/catkin_ws/src/ros_hand_gesture_recognition/src/model/keypoint_classifier/keypoint_classifier.hdf5\n",
      "42/42 [==============================] - 0s 5ms/step - loss: 0.4437 - accuracy: 0.8391 - val_loss: 0.1387 - val_accuracy: 0.9627\n",
      "Epoch 110/1000\n",
      "34/42 [=======================>......] - ETA: 0s - loss: 0.4614 - accuracy: 0.8320\n",
      "Epoch 110: saving model to /home/jungle02/catkin_ws/src/ros_hand_gesture_recognition/src/model/keypoint_classifier/keypoint_classifier.hdf5\n",
      "42/42 [==============================] - 0s 6ms/step - loss: 0.4652 - accuracy: 0.8295 - val_loss: 0.1502 - val_accuracy: 0.9576\n",
      "Epoch 111/1000\n",
      "38/42 [==========================>...] - ETA: 0s - loss: 0.4333 - accuracy: 0.8431\n",
      "Epoch 111: saving model to /home/jungle02/catkin_ws/src/ros_hand_gesture_recognition/src/model/keypoint_classifier/keypoint_classifier.hdf5\n",
      "42/42 [==============================] - 0s 5ms/step - loss: 0.4362 - accuracy: 0.8417 - val_loss: 0.1466 - val_accuracy: 0.9536\n",
      "Epoch 112/1000\n",
      "37/42 [=========================>....] - ETA: 0s - loss: 0.4517 - accuracy: 0.8355\n",
      "Epoch 112: saving model to /home/jungle02/catkin_ws/src/ros_hand_gesture_recognition/src/model/keypoint_classifier/keypoint_classifier.hdf5\n",
      "42/42 [==============================] - 0s 4ms/step - loss: 0.4506 - accuracy: 0.8351 - val_loss: 0.1397 - val_accuracy: 0.9587\n",
      "Epoch 113/1000\n",
      "30/42 [====================>.........] - ETA: 0s - loss: 0.4453 - accuracy: 0.8359\n",
      "Epoch 113: saving model to /home/jungle02/catkin_ws/src/ros_hand_gesture_recognition/src/model/keypoint_classifier/keypoint_classifier.hdf5\n",
      "42/42 [==============================] - 0s 4ms/step - loss: 0.4495 - accuracy: 0.8346 - val_loss: 0.1358 - val_accuracy: 0.9661\n",
      "Epoch 114/1000\n",
      "29/42 [===================>..........] - ETA: 0s - loss: 0.4206 - accuracy: 0.8494\n",
      "Epoch 114: saving model to /home/jungle02/catkin_ws/src/ros_hand_gesture_recognition/src/model/keypoint_classifier/keypoint_classifier.hdf5\n",
      "42/42 [==============================] - 0s 4ms/step - loss: 0.4276 - accuracy: 0.8455 - val_loss: 0.1399 - val_accuracy: 0.9581\n",
      "Epoch 115/1000\n",
      "27/42 [==================>...........] - ETA: 0s - loss: 0.4291 - accuracy: 0.8417\n",
      "Epoch 115: saving model to /home/jungle02/catkin_ws/src/ros_hand_gesture_recognition/src/model/keypoint_classifier/keypoint_classifier.hdf5\n",
      "42/42 [==============================] - 0s 4ms/step - loss: 0.4351 - accuracy: 0.8400 - val_loss: 0.1382 - val_accuracy: 0.9615\n",
      "Epoch 116/1000\n",
      "22/42 [==============>...............] - ETA: 0s - loss: 0.4436 - accuracy: 0.8402\n",
      "Epoch 116: saving model to /home/jungle02/catkin_ws/src/ros_hand_gesture_recognition/src/model/keypoint_classifier/keypoint_classifier.hdf5\n",
      "42/42 [==============================] - 0s 4ms/step - loss: 0.4460 - accuracy: 0.8415 - val_loss: 0.1384 - val_accuracy: 0.9581\n",
      "Epoch 117/1000\n",
      "30/42 [====================>.........] - ETA: 0s - loss: 0.4317 - accuracy: 0.8438\n",
      "Epoch 117: saving model to /home/jungle02/catkin_ws/src/ros_hand_gesture_recognition/src/model/keypoint_classifier/keypoint_classifier.hdf5\n",
      "42/42 [==============================] - 0s 4ms/step - loss: 0.4366 - accuracy: 0.8398 - val_loss: 0.1394 - val_accuracy: 0.9598\n",
      "Epoch 118/1000\n",
      "24/42 [================>.............] - ETA: 0s - loss: 0.4649 - accuracy: 0.8307\n",
      "Epoch 118: saving model to /home/jungle02/catkin_ws/src/ros_hand_gesture_recognition/src/model/keypoint_classifier/keypoint_classifier.hdf5\n",
      "42/42 [==============================] - 0s 5ms/step - loss: 0.4539 - accuracy: 0.8315 - val_loss: 0.1362 - val_accuracy: 0.9576\n",
      "Epoch 119/1000\n",
      "19/42 [============>.................] - ETA: 0s - loss: 0.4683 - accuracy: 0.8191\n",
      "Epoch 119: saving model to /home/jungle02/catkin_ws/src/ros_hand_gesture_recognition/src/model/keypoint_classifier/keypoint_classifier.hdf5\n",
      "42/42 [==============================] - 0s 5ms/step - loss: 0.4557 - accuracy: 0.8255 - val_loss: 0.1377 - val_accuracy: 0.9593\n",
      "Epoch 120/1000\n",
      "21/42 [==============>...............] - ETA: 0s - loss: 0.4330 - accuracy: 0.8460\n",
      "Epoch 120: saving model to /home/jungle02/catkin_ws/src/ros_hand_gesture_recognition/src/model/keypoint_classifier/keypoint_classifier.hdf5\n",
      "42/42 [==============================] - 0s 5ms/step - loss: 0.4425 - accuracy: 0.8376 - val_loss: 0.1387 - val_accuracy: 0.9621\n",
      "Epoch 121/1000\n",
      "38/42 [==========================>...] - ETA: 0s - loss: 0.4504 - accuracy: 0.8363\n",
      "Epoch 121: saving model to /home/jungle02/catkin_ws/src/ros_hand_gesture_recognition/src/model/keypoint_classifier/keypoint_classifier.hdf5\n",
      "42/42 [==============================] - 0s 5ms/step - loss: 0.4465 - accuracy: 0.8391 - val_loss: 0.1384 - val_accuracy: 0.9706\n",
      "Epoch 122/1000\n",
      "40/42 [===========================>..] - ETA: 0s - loss: 0.4393 - accuracy: 0.8438\n",
      "Epoch 122: saving model to /home/jungle02/catkin_ws/src/ros_hand_gesture_recognition/src/model/keypoint_classifier/keypoint_classifier.hdf5\n",
      "42/42 [==============================] - 0s 5ms/step - loss: 0.4402 - accuracy: 0.8425 - val_loss: 0.1353 - val_accuracy: 0.9666\n",
      "Epoch 123/1000\n",
      "39/42 [==========================>...] - ETA: 0s - loss: 0.4276 - accuracy: 0.8383\n",
      "Epoch 123: saving model to /home/jungle02/catkin_ws/src/ros_hand_gesture_recognition/src/model/keypoint_classifier/keypoint_classifier.hdf5\n",
      "42/42 [==============================] - 0s 5ms/step - loss: 0.4275 - accuracy: 0.8391 - val_loss: 0.1338 - val_accuracy: 0.9621\n",
      "Epoch 124/1000\n",
      "42/42 [==============================] - ETA: 0s - loss: 0.4427 - accuracy: 0.8347\n",
      "Epoch 124: saving model to /home/jungle02/catkin_ws/src/ros_hand_gesture_recognition/src/model/keypoint_classifier/keypoint_classifier.hdf5\n",
      "42/42 [==============================] - 0s 5ms/step - loss: 0.4427 - accuracy: 0.8347 - val_loss: 0.1383 - val_accuracy: 0.9564\n",
      "Epoch 125/1000\n",
      "42/42 [==============================] - ETA: 0s - loss: 0.4552 - accuracy: 0.8300\n",
      "Epoch 125: saving model to /home/jungle02/catkin_ws/src/ros_hand_gesture_recognition/src/model/keypoint_classifier/keypoint_classifier.hdf5\n",
      "42/42 [==============================] - 0s 5ms/step - loss: 0.4552 - accuracy: 0.8300 - val_loss: 0.1404 - val_accuracy: 0.9666\n",
      "Epoch 126/1000\n",
      "25/42 [================>.............] - ETA: 0s - loss: 0.4527 - accuracy: 0.8328\n",
      "Epoch 126: saving model to /home/jungle02/catkin_ws/src/ros_hand_gesture_recognition/src/model/keypoint_classifier/keypoint_classifier.hdf5\n",
      "42/42 [==============================] - 0s 5ms/step - loss: 0.4414 - accuracy: 0.8346 - val_loss: 0.1391 - val_accuracy: 0.9632\n",
      "Epoch 127/1000\n",
      "33/42 [======================>.......] - ETA: 0s - loss: 0.4370 - accuracy: 0.8371\n",
      "Epoch 127: saving model to /home/jungle02/catkin_ws/src/ros_hand_gesture_recognition/src/model/keypoint_classifier/keypoint_classifier.hdf5\n",
      "42/42 [==============================] - 0s 5ms/step - loss: 0.4342 - accuracy: 0.8398 - val_loss: 0.1378 - val_accuracy: 0.9632\n",
      "Epoch 128/1000\n",
      "26/42 [=================>............] - ETA: 0s - loss: 0.4413 - accuracy: 0.8401\n",
      "Epoch 128: saving model to /home/jungle02/catkin_ws/src/ros_hand_gesture_recognition/src/model/keypoint_classifier/keypoint_classifier.hdf5\n",
      "42/42 [==============================] - 0s 5ms/step - loss: 0.4498 - accuracy: 0.8336 - val_loss: 0.1380 - val_accuracy: 0.9644\n",
      "Epoch 129/1000\n",
      "38/42 [==========================>...] - ETA: 0s - loss: 0.4361 - accuracy: 0.8423\n",
      "Epoch 129: saving model to /home/jungle02/catkin_ws/src/ros_hand_gesture_recognition/src/model/keypoint_classifier/keypoint_classifier.hdf5\n",
      "42/42 [==============================] - 0s 5ms/step - loss: 0.4395 - accuracy: 0.8412 - val_loss: 0.1401 - val_accuracy: 0.9615\n",
      "Epoch 130/1000\n",
      "22/42 [==============>...............] - ETA: 0s - loss: 0.4461 - accuracy: 0.8317\n",
      "Epoch 130: saving model to /home/jungle02/catkin_ws/src/ros_hand_gesture_recognition/src/model/keypoint_classifier/keypoint_classifier.hdf5\n",
      "42/42 [==============================] - 0s 4ms/step - loss: 0.4412 - accuracy: 0.8342 - val_loss: 0.1369 - val_accuracy: 0.9666\n",
      "Epoch 131/1000\n",
      "33/42 [======================>.......] - ETA: 0s - loss: 0.4292 - accuracy: 0.8428\n",
      "Epoch 131: saving model to /home/jungle02/catkin_ws/src/ros_hand_gesture_recognition/src/model/keypoint_classifier/keypoint_classifier.hdf5\n",
      "42/42 [==============================] - 0s 5ms/step - loss: 0.4285 - accuracy: 0.8434 - val_loss: 0.1380 - val_accuracy: 0.9695\n",
      "Epoch 132/1000\n",
      "29/42 [===================>..........] - ETA: 0s - loss: 0.4275 - accuracy: 0.8435\n",
      "Epoch 132: saving model to /home/jungle02/catkin_ws/src/ros_hand_gesture_recognition/src/model/keypoint_classifier/keypoint_classifier.hdf5\n",
      "42/42 [==============================] - 0s 4ms/step - loss: 0.4306 - accuracy: 0.8408 - val_loss: 0.1384 - val_accuracy: 0.9627\n",
      "Epoch 133/1000\n",
      "31/42 [=====================>........] - ETA: 0s - loss: 0.4325 - accuracy: 0.8415\n",
      "Epoch 133: saving model to /home/jungle02/catkin_ws/src/ros_hand_gesture_recognition/src/model/keypoint_classifier/keypoint_classifier.hdf5\n",
      "42/42 [==============================] - 0s 6ms/step - loss: 0.4254 - accuracy: 0.8453 - val_loss: 0.1340 - val_accuracy: 0.9655\n",
      "Epoch 134/1000\n",
      "29/42 [===================>..........] - ETA: 0s - loss: 0.4425 - accuracy: 0.8316\n",
      "Epoch 134: saving model to /home/jungle02/catkin_ws/src/ros_hand_gesture_recognition/src/model/keypoint_classifier/keypoint_classifier.hdf5\n",
      "42/42 [==============================] - 0s 4ms/step - loss: 0.4357 - accuracy: 0.8334 - val_loss: 0.1414 - val_accuracy: 0.9627\n",
      "Epoch 135/1000\n",
      "24/42 [================>.............] - ETA: 0s - loss: 0.4218 - accuracy: 0.8477\n",
      "Epoch 135: saving model to /home/jungle02/catkin_ws/src/ros_hand_gesture_recognition/src/model/keypoint_classifier/keypoint_classifier.hdf5\n",
      "42/42 [==============================] - 0s 5ms/step - loss: 0.4259 - accuracy: 0.8476 - val_loss: 0.1340 - val_accuracy: 0.9632\n",
      "Epoch 136/1000\n",
      "25/42 [================>.............] - ETA: 0s - loss: 0.4359 - accuracy: 0.8403\n",
      "Epoch 136: saving model to /home/jungle02/catkin_ws/src/ros_hand_gesture_recognition/src/model/keypoint_classifier/keypoint_classifier.hdf5\n",
      "42/42 [==============================] - 0s 4ms/step - loss: 0.4234 - accuracy: 0.8464 - val_loss: 0.1348 - val_accuracy: 0.9615\n",
      "Epoch 137/1000\n",
      "21/42 [==============>...............] - ETA: 0s - loss: 0.4430 - accuracy: 0.8419\n",
      "Epoch 137: saving model to /home/jungle02/catkin_ws/src/ros_hand_gesture_recognition/src/model/keypoint_classifier/keypoint_classifier.hdf5\n",
      "42/42 [==============================] - 0s 4ms/step - loss: 0.4298 - accuracy: 0.8474 - val_loss: 0.1356 - val_accuracy: 0.9672\n",
      "Epoch 138/1000\n",
      "35/42 [========================>.....] - ETA: 0s - loss: 0.4210 - accuracy: 0.8464\n",
      "Epoch 138: saving model to /home/jungle02/catkin_ws/src/ros_hand_gesture_recognition/src/model/keypoint_classifier/keypoint_classifier.hdf5\n",
      "42/42 [==============================] - 0s 5ms/step - loss: 0.4258 - accuracy: 0.8459 - val_loss: 0.1294 - val_accuracy: 0.9734\n",
      "Epoch 139/1000\n",
      "42/42 [==============================] - ETA: 0s - loss: 0.4294 - accuracy: 0.8444\n",
      "Epoch 139: saving model to /home/jungle02/catkin_ws/src/ros_hand_gesture_recognition/src/model/keypoint_classifier/keypoint_classifier.hdf5\n",
      "42/42 [==============================] - 0s 5ms/step - loss: 0.4294 - accuracy: 0.8444 - val_loss: 0.1323 - val_accuracy: 0.9632\n",
      "Epoch 140/1000\n",
      "25/42 [================>.............] - ETA: 0s - loss: 0.4321 - accuracy: 0.8338\n",
      "Epoch 140: saving model to /home/jungle02/catkin_ws/src/ros_hand_gesture_recognition/src/model/keypoint_classifier/keypoint_classifier.hdf5\n",
      "42/42 [==============================] - 0s 5ms/step - loss: 0.4268 - accuracy: 0.8380 - val_loss: 0.1352 - val_accuracy: 0.9638\n",
      "Epoch 141/1000\n",
      "26/42 [=================>............] - ETA: 0s - loss: 0.4252 - accuracy: 0.8501\n",
      "Epoch 141: saving model to /home/jungle02/catkin_ws/src/ros_hand_gesture_recognition/src/model/keypoint_classifier/keypoint_classifier.hdf5\n",
      "42/42 [==============================] - 0s 5ms/step - loss: 0.4314 - accuracy: 0.8425 - val_loss: 0.1354 - val_accuracy: 0.9632\n",
      "Epoch 142/1000\n",
      "20/42 [=============>................] - ETA: 0s - loss: 0.4246 - accuracy: 0.8414\n",
      "Epoch 142: saving model to /home/jungle02/catkin_ws/src/ros_hand_gesture_recognition/src/model/keypoint_classifier/keypoint_classifier.hdf5\n",
      "42/42 [==============================] - 0s 4ms/step - loss: 0.4288 - accuracy: 0.8383 - val_loss: 0.1269 - val_accuracy: 0.9644\n",
      "Epoch 143/1000\n",
      "33/42 [======================>.......] - ETA: 0s - loss: 0.4478 - accuracy: 0.8376\n",
      "Epoch 143: saving model to /home/jungle02/catkin_ws/src/ros_hand_gesture_recognition/src/model/keypoint_classifier/keypoint_classifier.hdf5\n",
      "42/42 [==============================] - 0s 3ms/step - loss: 0.4421 - accuracy: 0.8389 - val_loss: 0.1344 - val_accuracy: 0.9610\n",
      "Epoch 144/1000\n",
      "33/42 [======================>.......] - ETA: 0s - loss: 0.4407 - accuracy: 0.8407\n",
      "Epoch 144: saving model to /home/jungle02/catkin_ws/src/ros_hand_gesture_recognition/src/model/keypoint_classifier/keypoint_classifier.hdf5\n",
      "42/42 [==============================] - 0s 4ms/step - loss: 0.4414 - accuracy: 0.8385 - val_loss: 0.1330 - val_accuracy: 0.9632\n",
      "Epoch 145/1000\n",
      "27/42 [==================>...........] - ETA: 0s - loss: 0.4075 - accuracy: 0.8504\n",
      "Epoch 145: saving model to /home/jungle02/catkin_ws/src/ros_hand_gesture_recognition/src/model/keypoint_classifier/keypoint_classifier.hdf5\n",
      "42/42 [==============================] - 0s 5ms/step - loss: 0.4082 - accuracy: 0.8502 - val_loss: 0.1314 - val_accuracy: 0.9672\n",
      "Epoch 146/1000\n",
      "23/42 [===============>..............] - ETA: 0s - loss: 0.3998 - accuracy: 0.8488\n",
      "Epoch 146: saving model to /home/jungle02/catkin_ws/src/ros_hand_gesture_recognition/src/model/keypoint_classifier/keypoint_classifier.hdf5\n",
      "42/42 [==============================] - 0s 4ms/step - loss: 0.4116 - accuracy: 0.8461 - val_loss: 0.1336 - val_accuracy: 0.9604\n",
      "Epoch 147/1000\n",
      "28/42 [===================>..........] - ETA: 0s - loss: 0.4386 - accuracy: 0.8404\n",
      "Epoch 147: saving model to /home/jungle02/catkin_ws/src/ros_hand_gesture_recognition/src/model/keypoint_classifier/keypoint_classifier.hdf5\n",
      "42/42 [==============================] - 0s 4ms/step - loss: 0.4354 - accuracy: 0.8383 - val_loss: 0.1350 - val_accuracy: 0.9644\n",
      "Epoch 148/1000\n",
      "25/42 [================>.............] - ETA: 0s - loss: 0.4040 - accuracy: 0.8484\n",
      "Epoch 148: saving model to /home/jungle02/catkin_ws/src/ros_hand_gesture_recognition/src/model/keypoint_classifier/keypoint_classifier.hdf5\n",
      "42/42 [==============================] - 0s 4ms/step - loss: 0.4218 - accuracy: 0.8406 - val_loss: 0.1310 - val_accuracy: 0.9678\n",
      "Epoch 149/1000\n",
      "40/42 [===========================>..] - ETA: 0s - loss: 0.4336 - accuracy: 0.8408\n",
      "Epoch 149: saving model to /home/jungle02/catkin_ws/src/ros_hand_gesture_recognition/src/model/keypoint_classifier/keypoint_classifier.hdf5\n",
      "42/42 [==============================] - 0s 5ms/step - loss: 0.4307 - accuracy: 0.8419 - val_loss: 0.1314 - val_accuracy: 0.9683\n",
      "Epoch 150/1000\n",
      "41/42 [============================>.] - ETA: 0s - loss: 0.4376 - accuracy: 0.8384\n",
      "Epoch 150: saving model to /home/jungle02/catkin_ws/src/ros_hand_gesture_recognition/src/model/keypoint_classifier/keypoint_classifier.hdf5\n",
      "42/42 [==============================] - 0s 5ms/step - loss: 0.4362 - accuracy: 0.8395 - val_loss: 0.1376 - val_accuracy: 0.9638\n",
      "Epoch 151/1000\n",
      "40/42 [===========================>..] - ETA: 0s - loss: 0.4140 - accuracy: 0.8445\n",
      "Epoch 151: saving model to /home/jungle02/catkin_ws/src/ros_hand_gesture_recognition/src/model/keypoint_classifier/keypoint_classifier.hdf5\n",
      "42/42 [==============================] - 0s 5ms/step - loss: 0.4142 - accuracy: 0.8444 - val_loss: 0.1359 - val_accuracy: 0.9627\n",
      "Epoch 152/1000\n",
      "27/42 [==================>...........] - ETA: 0s - loss: 0.4170 - accuracy: 0.8455\n",
      "Epoch 152: saving model to /home/jungle02/catkin_ws/src/ros_hand_gesture_recognition/src/model/keypoint_classifier/keypoint_classifier.hdf5\n",
      "42/42 [==============================] - 0s 5ms/step - loss: 0.4354 - accuracy: 0.8370 - val_loss: 0.1343 - val_accuracy: 0.9615\n",
      "Epoch 153/1000\n",
      "36/42 [========================>.....] - ETA: 0s - loss: 0.4240 - accuracy: 0.8466\n",
      "Epoch 153: saving model to /home/jungle02/catkin_ws/src/ros_hand_gesture_recognition/src/model/keypoint_classifier/keypoint_classifier.hdf5\n",
      "42/42 [==============================] - 0s 5ms/step - loss: 0.4197 - accuracy: 0.8464 - val_loss: 0.1346 - val_accuracy: 0.9621\n",
      "Epoch 154/1000\n",
      "39/42 [==========================>...] - ETA: 0s - loss: 0.4223 - accuracy: 0.8482\n",
      "Epoch 154: saving model to /home/jungle02/catkin_ws/src/ros_hand_gesture_recognition/src/model/keypoint_classifier/keypoint_classifier.hdf5\n",
      "42/42 [==============================] - 0s 5ms/step - loss: 0.4221 - accuracy: 0.8485 - val_loss: 0.1322 - val_accuracy: 0.9638\n",
      "Epoch 155/1000\n",
      "27/42 [==================>...........] - ETA: 0s - loss: 0.4415 - accuracy: 0.8417\n",
      "Epoch 155: saving model to /home/jungle02/catkin_ws/src/ros_hand_gesture_recognition/src/model/keypoint_classifier/keypoint_classifier.hdf5\n",
      "42/42 [==============================] - 0s 3ms/step - loss: 0.4281 - accuracy: 0.8481 - val_loss: 0.1302 - val_accuracy: 0.9649\n",
      "Epoch 156/1000\n",
      "28/42 [===================>..........] - ETA: 0s - loss: 0.4353 - accuracy: 0.8407\n",
      "Epoch 156: saving model to /home/jungle02/catkin_ws/src/ros_hand_gesture_recognition/src/model/keypoint_classifier/keypoint_classifier.hdf5\n",
      "42/42 [==============================] - 0s 4ms/step - loss: 0.4310 - accuracy: 0.8419 - val_loss: 0.1268 - val_accuracy: 0.9661\n",
      "Epoch 157/1000\n",
      "24/42 [================>.............] - ETA: 0s - loss: 0.4265 - accuracy: 0.8408\n",
      "Epoch 157: saving model to /home/jungle02/catkin_ws/src/ros_hand_gesture_recognition/src/model/keypoint_classifier/keypoint_classifier.hdf5\n",
      "42/42 [==============================] - 0s 5ms/step - loss: 0.4254 - accuracy: 0.8446 - val_loss: 0.1297 - val_accuracy: 0.9615\n",
      "Epoch 158/1000\n",
      "42/42 [==============================] - ETA: 0s - loss: 0.4077 - accuracy: 0.8504\n",
      "Epoch 158: saving model to /home/jungle02/catkin_ws/src/ros_hand_gesture_recognition/src/model/keypoint_classifier/keypoint_classifier.hdf5\n",
      "42/42 [==============================] - 0s 4ms/step - loss: 0.4077 - accuracy: 0.8504 - val_loss: 0.1254 - val_accuracy: 0.9661\n",
      "Epoch 159/1000\n",
      "26/42 [=================>............] - ETA: 0s - loss: 0.4053 - accuracy: 0.8555\n",
      "Epoch 159: saving model to /home/jungle02/catkin_ws/src/ros_hand_gesture_recognition/src/model/keypoint_classifier/keypoint_classifier.hdf5\n",
      "42/42 [==============================] - 0s 5ms/step - loss: 0.4150 - accuracy: 0.8513 - val_loss: 0.1286 - val_accuracy: 0.9649\n",
      "Epoch 160/1000\n",
      "17/42 [===========>..................] - ETA: 0s - loss: 0.4371 - accuracy: 0.8442\n",
      "Epoch 160: saving model to /home/jungle02/catkin_ws/src/ros_hand_gesture_recognition/src/model/keypoint_classifier/keypoint_classifier.hdf5\n",
      "42/42 [==============================] - 0s 5ms/step - loss: 0.4329 - accuracy: 0.8461 - val_loss: 0.1363 - val_accuracy: 0.9678\n",
      "Epoch 161/1000\n",
      "39/42 [==========================>...] - ETA: 0s - loss: 0.4293 - accuracy: 0.8383\n",
      "Epoch 161: saving model to /home/jungle02/catkin_ws/src/ros_hand_gesture_recognition/src/model/keypoint_classifier/keypoint_classifier.hdf5\n",
      "42/42 [==============================] - 0s 6ms/step - loss: 0.4258 - accuracy: 0.8410 - val_loss: 0.1281 - val_accuracy: 0.9683\n",
      "Epoch 162/1000\n",
      "22/42 [==============>...............] - ETA: 0s - loss: 0.4358 - accuracy: 0.8420\n",
      "Epoch 162: saving model to /home/jungle02/catkin_ws/src/ros_hand_gesture_recognition/src/model/keypoint_classifier/keypoint_classifier.hdf5\n",
      "42/42 [==============================] - 0s 5ms/step - loss: 0.4268 - accuracy: 0.8466 - val_loss: 0.1337 - val_accuracy: 0.9655\n",
      "Epoch 163/1000\n",
      "25/42 [================>.............] - ETA: 0s - loss: 0.4203 - accuracy: 0.8466\n",
      "Epoch 163: saving model to /home/jungle02/catkin_ws/src/ros_hand_gesture_recognition/src/model/keypoint_classifier/keypoint_classifier.hdf5\n",
      "42/42 [==============================] - 0s 5ms/step - loss: 0.4282 - accuracy: 0.8447 - val_loss: 0.1285 - val_accuracy: 0.9689\n",
      "Epoch 164/1000\n",
      "32/42 [=====================>........] - ETA: 0s - loss: 0.4260 - accuracy: 0.8411\n",
      "Epoch 164: saving model to /home/jungle02/catkin_ws/src/ros_hand_gesture_recognition/src/model/keypoint_classifier/keypoint_classifier.hdf5\n",
      "42/42 [==============================] - 0s 6ms/step - loss: 0.4233 - accuracy: 0.8442 - val_loss: 0.1339 - val_accuracy: 0.9627\n",
      "Epoch 165/1000\n",
      "22/42 [==============>...............] - ETA: 0s - loss: 0.4421 - accuracy: 0.8409\n",
      "Epoch 165: saving model to /home/jungle02/catkin_ws/src/ros_hand_gesture_recognition/src/model/keypoint_classifier/keypoint_classifier.hdf5\n",
      "42/42 [==============================] - 0s 4ms/step - loss: 0.4293 - accuracy: 0.8472 - val_loss: 0.1301 - val_accuracy: 0.9672\n",
      "Epoch 166/1000\n",
      "34/42 [=======================>......] - ETA: 0s - loss: 0.4180 - accuracy: 0.8444\n",
      "Epoch 166: saving model to /home/jungle02/catkin_ws/src/ros_hand_gesture_recognition/src/model/keypoint_classifier/keypoint_classifier.hdf5\n",
      "42/42 [==============================] - 0s 4ms/step - loss: 0.4188 - accuracy: 0.8451 - val_loss: 0.1310 - val_accuracy: 0.9666\n",
      "Epoch 167/1000\n",
      "27/42 [==================>...........] - ETA: 0s - loss: 0.4205 - accuracy: 0.8469\n",
      "Epoch 167: saving model to /home/jungle02/catkin_ws/src/ros_hand_gesture_recognition/src/model/keypoint_classifier/keypoint_classifier.hdf5\n",
      "42/42 [==============================] - 0s 5ms/step - loss: 0.4241 - accuracy: 0.8453 - val_loss: 0.1366 - val_accuracy: 0.9649\n",
      "Epoch 168/1000\n",
      "26/42 [=================>............] - ETA: 0s - loss: 0.4152 - accuracy: 0.8516\n",
      "Epoch 168: saving model to /home/jungle02/catkin_ws/src/ros_hand_gesture_recognition/src/model/keypoint_classifier/keypoint_classifier.hdf5\n",
      "42/42 [==============================] - 0s 5ms/step - loss: 0.4160 - accuracy: 0.8483 - val_loss: 0.1330 - val_accuracy: 0.9661\n",
      "Epoch 169/1000\n",
      "29/42 [===================>..........] - ETA: 0s - loss: 0.4181 - accuracy: 0.8478\n",
      "Epoch 169: saving model to /home/jungle02/catkin_ws/src/ros_hand_gesture_recognition/src/model/keypoint_classifier/keypoint_classifier.hdf5\n",
      "42/42 [==============================] - 0s 5ms/step - loss: 0.4223 - accuracy: 0.8457 - val_loss: 0.1350 - val_accuracy: 0.9598\n",
      "Epoch 170/1000\n",
      "42/42 [==============================] - ETA: 0s - loss: 0.4187 - accuracy: 0.8381\n",
      "Epoch 170: saving model to /home/jungle02/catkin_ws/src/ros_hand_gesture_recognition/src/model/keypoint_classifier/keypoint_classifier.hdf5\n",
      "42/42 [==============================] - 0s 4ms/step - loss: 0.4187 - accuracy: 0.8381 - val_loss: 0.1391 - val_accuracy: 0.9655\n",
      "Epoch 171/1000\n",
      "32/42 [=====================>........] - ETA: 0s - loss: 0.4227 - accuracy: 0.8425\n",
      "Epoch 171: saving model to /home/jungle02/catkin_ws/src/ros_hand_gesture_recognition/src/model/keypoint_classifier/keypoint_classifier.hdf5\n",
      "42/42 [==============================] - 0s 3ms/step - loss: 0.4212 - accuracy: 0.8464 - val_loss: 0.1331 - val_accuracy: 0.9638\n",
      "Epoch 172/1000\n",
      "29/42 [===================>..........] - ETA: 0s - loss: 0.4244 - accuracy: 0.8438\n",
      "Epoch 172: saving model to /home/jungle02/catkin_ws/src/ros_hand_gesture_recognition/src/model/keypoint_classifier/keypoint_classifier.hdf5\n",
      "42/42 [==============================] - 0s 5ms/step - loss: 0.4213 - accuracy: 0.8480 - val_loss: 0.1263 - val_accuracy: 0.9638\n",
      "Epoch 173/1000\n",
      "29/42 [===================>..........] - ETA: 0s - loss: 0.4129 - accuracy: 0.8502\n",
      "Epoch 173: saving model to /home/jungle02/catkin_ws/src/ros_hand_gesture_recognition/src/model/keypoint_classifier/keypoint_classifier.hdf5\n",
      "42/42 [==============================] - 0s 6ms/step - loss: 0.4120 - accuracy: 0.8513 - val_loss: 0.1331 - val_accuracy: 0.9632\n",
      "Epoch 174/1000\n",
      "29/42 [===================>..........] - ETA: 0s - loss: 0.4160 - accuracy: 0.8464\n",
      "Epoch 174: saving model to /home/jungle02/catkin_ws/src/ros_hand_gesture_recognition/src/model/keypoint_classifier/keypoint_classifier.hdf5\n",
      "42/42 [==============================] - 0s 4ms/step - loss: 0.4141 - accuracy: 0.8504 - val_loss: 0.1356 - val_accuracy: 0.9593\n",
      "Epoch 175/1000\n",
      "27/42 [==================>...........] - ETA: 0s - loss: 0.4122 - accuracy: 0.8571\n",
      "Epoch 175: saving model to /home/jungle02/catkin_ws/src/ros_hand_gesture_recognition/src/model/keypoint_classifier/keypoint_classifier.hdf5\n",
      "42/42 [==============================] - 0s 5ms/step - loss: 0.4153 - accuracy: 0.8515 - val_loss: 0.1266 - val_accuracy: 0.9610\n",
      "Epoch 176/1000\n",
      "26/42 [=================>............] - ETA: 0s - loss: 0.4220 - accuracy: 0.8422\n",
      "Epoch 176: saving model to /home/jungle02/catkin_ws/src/ros_hand_gesture_recognition/src/model/keypoint_classifier/keypoint_classifier.hdf5\n",
      "42/42 [==============================] - 0s 5ms/step - loss: 0.4257 - accuracy: 0.8429 - val_loss: 0.1229 - val_accuracy: 0.9672\n",
      "Epoch 177/1000\n",
      "26/42 [=================>............] - ETA: 0s - loss: 0.4034 - accuracy: 0.8492\n",
      "Epoch 177: saving model to /home/jungle02/catkin_ws/src/ros_hand_gesture_recognition/src/model/keypoint_classifier/keypoint_classifier.hdf5\n",
      "42/42 [==============================] - 0s 4ms/step - loss: 0.4055 - accuracy: 0.8513 - val_loss: 0.1343 - val_accuracy: 0.9598\n",
      "Epoch 178/1000\n",
      "34/42 [=======================>......] - ETA: 0s - loss: 0.4134 - accuracy: 0.8504\n",
      "Epoch 178: saving model to /home/jungle02/catkin_ws/src/ros_hand_gesture_recognition/src/model/keypoint_classifier/keypoint_classifier.hdf5\n",
      "42/42 [==============================] - 0s 4ms/step - loss: 0.4104 - accuracy: 0.8523 - val_loss: 0.1264 - val_accuracy: 0.9655\n",
      "Epoch 179/1000\n",
      "29/42 [===================>..........] - ETA: 0s - loss: 0.4189 - accuracy: 0.8513\n",
      "Epoch 179: saving model to /home/jungle02/catkin_ws/src/ros_hand_gesture_recognition/src/model/keypoint_classifier/keypoint_classifier.hdf5\n",
      "42/42 [==============================] - 0s 5ms/step - loss: 0.4138 - accuracy: 0.8493 - val_loss: 0.1219 - val_accuracy: 0.9695\n",
      "Epoch 180/1000\n",
      "33/42 [======================>.......] - ETA: 0s - loss: 0.4283 - accuracy: 0.8426\n",
      "Epoch 180: saving model to /home/jungle02/catkin_ws/src/ros_hand_gesture_recognition/src/model/keypoint_classifier/keypoint_classifier.hdf5\n",
      "42/42 [==============================] - 0s 5ms/step - loss: 0.4172 - accuracy: 0.8461 - val_loss: 0.1256 - val_accuracy: 0.9678\n",
      "Epoch 181/1000\n",
      "42/42 [==============================] - ETA: 0s - loss: 0.4225 - accuracy: 0.8461\n",
      "Epoch 181: saving model to /home/jungle02/catkin_ws/src/ros_hand_gesture_recognition/src/model/keypoint_classifier/keypoint_classifier.hdf5\n",
      "42/42 [==============================] - 0s 5ms/step - loss: 0.4225 - accuracy: 0.8461 - val_loss: 0.1303 - val_accuracy: 0.9649\n",
      "Epoch 182/1000\n",
      "29/42 [===================>..........] - ETA: 0s - loss: 0.4172 - accuracy: 0.8510\n",
      "Epoch 182: saving model to /home/jungle02/catkin_ws/src/ros_hand_gesture_recognition/src/model/keypoint_classifier/keypoint_classifier.hdf5\n",
      "42/42 [==============================] - 0s 6ms/step - loss: 0.4081 - accuracy: 0.8551 - val_loss: 0.1295 - val_accuracy: 0.9627\n",
      "Epoch 183/1000\n",
      "38/42 [==========================>...] - ETA: 0s - loss: 0.4183 - accuracy: 0.8477\n",
      "Epoch 183: saving model to /home/jungle02/catkin_ws/src/ros_hand_gesture_recognition/src/model/keypoint_classifier/keypoint_classifier.hdf5\n",
      "42/42 [==============================] - 0s 4ms/step - loss: 0.4179 - accuracy: 0.8470 - val_loss: 0.1266 - val_accuracy: 0.9672\n",
      "Epoch 184/1000\n",
      "41/42 [============================>.] - ETA: 0s - loss: 0.4324 - accuracy: 0.8375\n",
      "Epoch 184: saving model to /home/jungle02/catkin_ws/src/ros_hand_gesture_recognition/src/model/keypoint_classifier/keypoint_classifier.hdf5\n",
      "42/42 [==============================] - 0s 5ms/step - loss: 0.4337 - accuracy: 0.8372 - val_loss: 0.1305 - val_accuracy: 0.9655\n",
      "Epoch 185/1000\n",
      "23/42 [===============>..............] - ETA: 0s - loss: 0.4197 - accuracy: 0.8431\n",
      "Epoch 185: saving model to /home/jungle02/catkin_ws/src/ros_hand_gesture_recognition/src/model/keypoint_classifier/keypoint_classifier.hdf5\n",
      "42/42 [==============================] - 0s 4ms/step - loss: 0.4204 - accuracy: 0.8415 - val_loss: 0.1292 - val_accuracy: 0.9655\n",
      "Epoch 186/1000\n",
      "32/42 [=====================>........] - ETA: 0s - loss: 0.4066 - accuracy: 0.8489\n",
      "Epoch 186: saving model to /home/jungle02/catkin_ws/src/ros_hand_gesture_recognition/src/model/keypoint_classifier/keypoint_classifier.hdf5\n",
      "42/42 [==============================] - 0s 3ms/step - loss: 0.4046 - accuracy: 0.8481 - val_loss: 0.1312 - val_accuracy: 0.9672\n",
      "Epoch 187/1000\n",
      "28/42 [===================>..........] - ETA: 0s - loss: 0.3977 - accuracy: 0.8477\n",
      "Epoch 187: saving model to /home/jungle02/catkin_ws/src/ros_hand_gesture_recognition/src/model/keypoint_classifier/keypoint_classifier.hdf5\n",
      "42/42 [==============================] - 0s 5ms/step - loss: 0.4116 - accuracy: 0.8442 - val_loss: 0.1323 - val_accuracy: 0.9672\n",
      "Epoch 188/1000\n",
      "17/42 [===========>..................] - ETA: 0s - loss: 0.4592 - accuracy: 0.8405\n",
      "Epoch 188: saving model to /home/jungle02/catkin_ws/src/ros_hand_gesture_recognition/src/model/keypoint_classifier/keypoint_classifier.hdf5\n",
      "42/42 [==============================] - 0s 5ms/step - loss: 0.4312 - accuracy: 0.8417 - val_loss: 0.1276 - val_accuracy: 0.9683\n",
      "Epoch 189/1000\n",
      "32/42 [=====================>........] - ETA: 0s - loss: 0.4228 - accuracy: 0.8450\n",
      "Epoch 189: saving model to /home/jungle02/catkin_ws/src/ros_hand_gesture_recognition/src/model/keypoint_classifier/keypoint_classifier.hdf5\n",
      "42/42 [==============================] - 0s 4ms/step - loss: 0.4189 - accuracy: 0.8453 - val_loss: 0.1330 - val_accuracy: 0.9627\n",
      "Epoch 190/1000\n",
      "31/42 [=====================>........] - ETA: 0s - loss: 0.3963 - accuracy: 0.8596\n",
      "Epoch 190: saving model to /home/jungle02/catkin_ws/src/ros_hand_gesture_recognition/src/model/keypoint_classifier/keypoint_classifier.hdf5\n",
      "42/42 [==============================] - 0s 5ms/step - loss: 0.3917 - accuracy: 0.8587 - val_loss: 0.1377 - val_accuracy: 0.9610\n",
      "Epoch 191/1000\n",
      "22/42 [==============>...............] - ETA: 0s - loss: 0.4032 - accuracy: 0.8505\n",
      "Epoch 191: saving model to /home/jungle02/catkin_ws/src/ros_hand_gesture_recognition/src/model/keypoint_classifier/keypoint_classifier.hdf5\n",
      "42/42 [==============================] - 0s 5ms/step - loss: 0.4011 - accuracy: 0.8519 - val_loss: 0.1238 - val_accuracy: 0.9683\n",
      "Epoch 192/1000\n",
      "22/42 [==============>...............] - ETA: 0s - loss: 0.4045 - accuracy: 0.8512\n",
      "Epoch 192: saving model to /home/jungle02/catkin_ws/src/ros_hand_gesture_recognition/src/model/keypoint_classifier/keypoint_classifier.hdf5\n",
      "42/42 [==============================] - 0s 5ms/step - loss: 0.4016 - accuracy: 0.8527 - val_loss: 0.1318 - val_accuracy: 0.9655\n",
      "Epoch 193/1000\n",
      "33/42 [======================>.......] - ETA: 0s - loss: 0.4030 - accuracy: 0.8561\n",
      "Epoch 193: saving model to /home/jungle02/catkin_ws/src/ros_hand_gesture_recognition/src/model/keypoint_classifier/keypoint_classifier.hdf5\n",
      "42/42 [==============================] - 0s 4ms/step - loss: 0.4080 - accuracy: 0.8529 - val_loss: 0.1361 - val_accuracy: 0.9610\n",
      "Epoch 194/1000\n",
      "27/42 [==================>...........] - ETA: 0s - loss: 0.3894 - accuracy: 0.8628\n",
      "Epoch 194: saving model to /home/jungle02/catkin_ws/src/ros_hand_gesture_recognition/src/model/keypoint_classifier/keypoint_classifier.hdf5\n",
      "42/42 [==============================] - 0s 5ms/step - loss: 0.3936 - accuracy: 0.8617 - val_loss: 0.1206 - val_accuracy: 0.9672\n",
      "Epoch 195/1000\n",
      "22/42 [==============>...............] - ETA: 0s - loss: 0.4246 - accuracy: 0.8441\n",
      "Epoch 195: saving model to /home/jungle02/catkin_ws/src/ros_hand_gesture_recognition/src/model/keypoint_classifier/keypoint_classifier.hdf5\n",
      "42/42 [==============================] - 0s 5ms/step - loss: 0.4132 - accuracy: 0.8476 - val_loss: 0.1330 - val_accuracy: 0.9610\n",
      "Epoch 196/1000\n",
      "31/42 [=====================>........] - ETA: 0s - loss: 0.4145 - accuracy: 0.8493\n",
      "Epoch 196: saving model to /home/jungle02/catkin_ws/src/ros_hand_gesture_recognition/src/model/keypoint_classifier/keypoint_classifier.hdf5\n",
      "42/42 [==============================] - 0s 5ms/step - loss: 0.4227 - accuracy: 0.8427 - val_loss: 0.1245 - val_accuracy: 0.9649\n",
      "Epoch 197/1000\n",
      "30/42 [====================>.........] - ETA: 0s - loss: 0.4095 - accuracy: 0.8549\n",
      "Epoch 197: saving model to /home/jungle02/catkin_ws/src/ros_hand_gesture_recognition/src/model/keypoint_classifier/keypoint_classifier.hdf5\n",
      "42/42 [==============================] - 0s 4ms/step - loss: 0.4059 - accuracy: 0.8534 - val_loss: 0.1266 - val_accuracy: 0.9661\n",
      "Epoch 198/1000\n",
      "23/42 [===============>..............] - ETA: 0s - loss: 0.4107 - accuracy: 0.8485\n",
      "Epoch 198: saving model to /home/jungle02/catkin_ws/src/ros_hand_gesture_recognition/src/model/keypoint_classifier/keypoint_classifier.hdf5\n",
      "42/42 [==============================] - 0s 4ms/step - loss: 0.4087 - accuracy: 0.8536 - val_loss: 0.1230 - val_accuracy: 0.9672\n",
      "Epoch 199/1000\n",
      "30/42 [====================>.........] - ETA: 0s - loss: 0.4129 - accuracy: 0.8505\n",
      "Epoch 199: saving model to /home/jungle02/catkin_ws/src/ros_hand_gesture_recognition/src/model/keypoint_classifier/keypoint_classifier.hdf5\n",
      "42/42 [==============================] - 0s 4ms/step - loss: 0.4192 - accuracy: 0.8468 - val_loss: 0.1339 - val_accuracy: 0.9598\n",
      "Epoch 200/1000\n",
      "23/42 [===============>..............] - ETA: 0s - loss: 0.3910 - accuracy: 0.8522\n",
      "Epoch 200: saving model to /home/jungle02/catkin_ws/src/ros_hand_gesture_recognition/src/model/keypoint_classifier/keypoint_classifier.hdf5\n",
      "42/42 [==============================] - 0s 5ms/step - loss: 0.3998 - accuracy: 0.8504 - val_loss: 0.1236 - val_accuracy: 0.9644\n",
      "Epoch 201/1000\n",
      "25/42 [================>.............] - ETA: 0s - loss: 0.3981 - accuracy: 0.8562\n",
      "Epoch 201: saving model to /home/jungle02/catkin_ws/src/ros_hand_gesture_recognition/src/model/keypoint_classifier/keypoint_classifier.hdf5\n",
      "42/42 [==============================] - 0s 5ms/step - loss: 0.4141 - accuracy: 0.8489 - val_loss: 0.1283 - val_accuracy: 0.9655\n",
      "Epoch 202/1000\n",
      "40/42 [===========================>..] - ETA: 0s - loss: 0.3965 - accuracy: 0.8566\n",
      "Epoch 202: saving model to /home/jungle02/catkin_ws/src/ros_hand_gesture_recognition/src/model/keypoint_classifier/keypoint_classifier.hdf5\n",
      "42/42 [==============================] - 0s 5ms/step - loss: 0.3991 - accuracy: 0.8547 - val_loss: 0.1335 - val_accuracy: 0.9666\n",
      "Epoch 203/1000\n",
      "21/42 [==============>...............] - ETA: 0s - loss: 0.4012 - accuracy: 0.8549\n",
      "Epoch 203: saving model to /home/jungle02/catkin_ws/src/ros_hand_gesture_recognition/src/model/keypoint_classifier/keypoint_classifier.hdf5\n",
      "42/42 [==============================] - 0s 5ms/step - loss: 0.4043 - accuracy: 0.8547 - val_loss: 0.1286 - val_accuracy: 0.9615\n",
      "Epoch 204/1000\n",
      "26/42 [=================>............] - ETA: 0s - loss: 0.4158 - accuracy: 0.8462\n",
      "Epoch 204: saving model to /home/jungle02/catkin_ws/src/ros_hand_gesture_recognition/src/model/keypoint_classifier/keypoint_classifier.hdf5\n",
      "42/42 [==============================] - 0s 5ms/step - loss: 0.4092 - accuracy: 0.8487 - val_loss: 0.1342 - val_accuracy: 0.9632\n",
      "Epoch 205/1000\n",
      "40/42 [===========================>..] - ETA: 0s - loss: 0.4039 - accuracy: 0.8531\n",
      "Epoch 205: saving model to /home/jungle02/catkin_ws/src/ros_hand_gesture_recognition/src/model/keypoint_classifier/keypoint_classifier.hdf5\n",
      "42/42 [==============================] - 0s 5ms/step - loss: 0.4030 - accuracy: 0.8540 - val_loss: 0.1373 - val_accuracy: 0.9621\n",
      "Epoch 206/1000\n",
      "31/42 [=====================>........] - ETA: 0s - loss: 0.3934 - accuracy: 0.8526\n",
      "Epoch 206: saving model to /home/jungle02/catkin_ws/src/ros_hand_gesture_recognition/src/model/keypoint_classifier/keypoint_classifier.hdf5\n",
      "42/42 [==============================] - 0s 3ms/step - loss: 0.4055 - accuracy: 0.8487 - val_loss: 0.1256 - val_accuracy: 0.9678\n",
      "Epoch 207/1000\n",
      "40/42 [===========================>..] - ETA: 0s - loss: 0.4001 - accuracy: 0.8521\n",
      "Epoch 207: saving model to /home/jungle02/catkin_ws/src/ros_hand_gesture_recognition/src/model/keypoint_classifier/keypoint_classifier.hdf5\n",
      "42/42 [==============================] - 0s 4ms/step - loss: 0.4003 - accuracy: 0.8527 - val_loss: 0.1323 - val_accuracy: 0.9649\n",
      "Epoch 208/1000\n",
      "25/42 [================>.............] - ETA: 0s - loss: 0.4028 - accuracy: 0.8475\n",
      "Epoch 208: saving model to /home/jungle02/catkin_ws/src/ros_hand_gesture_recognition/src/model/keypoint_classifier/keypoint_classifier.hdf5\n",
      "42/42 [==============================] - 0s 4ms/step - loss: 0.4066 - accuracy: 0.8487 - val_loss: 0.1269 - val_accuracy: 0.9649\n",
      "Epoch 209/1000\n",
      "37/42 [=========================>....] - ETA: 0s - loss: 0.3926 - accuracy: 0.8598\n",
      "Epoch 209: saving model to /home/jungle02/catkin_ws/src/ros_hand_gesture_recognition/src/model/keypoint_classifier/keypoint_classifier.hdf5\n",
      "42/42 [==============================] - 0s 6ms/step - loss: 0.3939 - accuracy: 0.8583 - val_loss: 0.1242 - val_accuracy: 0.9678\n",
      "Epoch 210/1000\n",
      "34/42 [=======================>......] - ETA: 0s - loss: 0.4040 - accuracy: 0.8539\n",
      "Epoch 210: saving model to /home/jungle02/catkin_ws/src/ros_hand_gesture_recognition/src/model/keypoint_classifier/keypoint_classifier.hdf5\n",
      "42/42 [==============================] - 0s 4ms/step - loss: 0.4068 - accuracy: 0.8506 - val_loss: 0.1261 - val_accuracy: 0.9649\n",
      "Epoch 211/1000\n",
      "26/42 [=================>............] - ETA: 0s - loss: 0.4021 - accuracy: 0.8489\n",
      "Epoch 211: saving model to /home/jungle02/catkin_ws/src/ros_hand_gesture_recognition/src/model/keypoint_classifier/keypoint_classifier.hdf5\n",
      "42/42 [==============================] - 0s 4ms/step - loss: 0.4018 - accuracy: 0.8502 - val_loss: 0.1315 - val_accuracy: 0.9621\n",
      "Epoch 212/1000\n",
      "25/42 [================>.............] - ETA: 0s - loss: 0.4074 - accuracy: 0.8541\n",
      "Epoch 212: saving model to /home/jungle02/catkin_ws/src/ros_hand_gesture_recognition/src/model/keypoint_classifier/keypoint_classifier.hdf5\n",
      "42/42 [==============================] - 0s 4ms/step - loss: 0.4028 - accuracy: 0.8519 - val_loss: 0.1268 - val_accuracy: 0.9689\n",
      "Epoch 213/1000\n",
      "30/42 [====================>.........] - ETA: 0s - loss: 0.3969 - accuracy: 0.8544\n",
      "Epoch 213: saving model to /home/jungle02/catkin_ws/src/ros_hand_gesture_recognition/src/model/keypoint_classifier/keypoint_classifier.hdf5\n",
      "42/42 [==============================] - 0s 4ms/step - loss: 0.3945 - accuracy: 0.8532 - val_loss: 0.1301 - val_accuracy: 0.9632\n",
      "Epoch 214/1000\n",
      "39/42 [==========================>...] - ETA: 0s - loss: 0.4039 - accuracy: 0.8486\n",
      "Epoch 214: saving model to /home/jungle02/catkin_ws/src/ros_hand_gesture_recognition/src/model/keypoint_classifier/keypoint_classifier.hdf5\n",
      "42/42 [==============================] - 0s 6ms/step - loss: 0.4079 - accuracy: 0.8466 - val_loss: 0.1309 - val_accuracy: 0.9655\n",
      "Epoch 214: early stopping\n"
     ]
    },
    {
     "data": {
      "text/plain": [
       "<keras.src.callbacks.History at 0x7f4c80a031f0>"
      ]
     },
     "execution_count": 11,
     "metadata": {},
     "output_type": "execute_result"
    }
   ],
   "source": [
    "model.fit(\n",
    "    X_train,\n",
    "    y_train,\n",
    "    epochs=1000,\n",
    "    batch_size=128,\n",
    "    validation_data=(X_test, y_test),\n",
    "    callbacks=[cp_callback, es_callback]\n",
    ")"
   ]
  },
  {
   "cell_type": "code",
   "execution_count": 12,
   "metadata": {
    "colab": {
     "base_uri": "https://localhost:8080/"
    },
    "id": "pxvb2Y299hE3",
    "outputId": "59eb3185-2e37-4b9e-bc9d-ab1b8ac29b7f"
   },
   "outputs": [
    {
     "name": "stdout",
     "output_type": "stream",
     "text": [
      "14/14 [==============================] - 0s 2ms/step - loss: 0.1309 - accuracy: 0.9655\n"
     ]
    }
   ],
   "source": [
    "# Model evaluation\n",
    "val_loss, val_acc = model.evaluate(X_test, y_test, batch_size=128)"
   ]
  },
  {
   "cell_type": "code",
   "execution_count": 13,
   "metadata": {
    "id": "RBkmDeUW9hE4"
   },
   "outputs": [],
   "source": [
    "# Loading the saved model\n",
    "model = tf.keras.models.load_model(model_save_path)"
   ]
  },
  {
   "cell_type": "code",
   "execution_count": 14,
   "metadata": {
    "colab": {
     "base_uri": "https://localhost:8080/"
    },
    "id": "tFz9Tb0I9hE4",
    "outputId": "1c3b3528-54ae-4ee2-ab04-77429211cbef"
   },
   "outputs": [
    {
     "name": "stdout",
     "output_type": "stream",
     "text": [
      "1/1 [==============================] - 0s 87ms/step\n",
      "[1.2990271e-02 9.7315753e-01 2.9097345e-17 8.4808150e-12 1.3852266e-02\n",
      " 3.2732553e-10 2.7522455e-09]\n",
      "1\n"
     ]
    }
   ],
   "source": [
    "# Inference test\n",
    "predict_result = model.predict(np.array([X_test[0]]))\n",
    "print(np.squeeze(predict_result))\n",
    "print(np.argmax(np.squeeze(predict_result)))"
   ]
  },
  {
   "cell_type": "markdown",
   "metadata": {
    "id": "S3U4yNWx9hE4"
   },
   "source": [
    "# Confusion matrix"
   ]
  },
  {
   "cell_type": "code",
   "execution_count": 15,
   "metadata": {
    "colab": {
     "base_uri": "https://localhost:8080/",
     "height": 582
    },
    "id": "AP1V6SCk9hE5",
    "outputId": "08e41a80-7a4a-4619-8125-ecc371368d19"
   },
   "outputs": [
    {
     "name": "stdout",
     "output_type": "stream",
     "text": [
      "56/56 [==============================] - 0s 813us/step\n"
     ]
    },
    {
     "data": {
      "image/png": "[encoded data removed]",
      "text/plain": [
       "<Figure size 700x600 with 2 Axes>"
      ]
     },
     "metadata": {},
     "output_type": "display_data"
    },
    {
     "name": "stdout",
     "output_type": "stream",
     "text": [
      "Classification Report\n",
      "              precision    recall  f1-score   support\n",
      "\n",
      "           0       0.99      0.97      0.98       406\n",
      "           1       0.99      0.87      0.93       375\n",
      "           2       0.98      1.00      0.99       184\n",
      "           3       0.96      1.00      0.98       273\n",
      "           4       0.97      1.00      0.98       204\n",
      "           5       0.85      0.99      0.92       190\n",
      "           6       1.00      1.00      1.00       136\n",
      "\n",
      "    accuracy                           0.97      1768\n",
      "   macro avg       0.96      0.98      0.97      1768\n",
      "weighted avg       0.97      0.97      0.97      1768\n",
      "\n"
     ]
    }
   ],
   "source": [
    "import pandas as pd\n",
    "import seaborn as sns\n",
    "import matplotlib.pyplot as plt\n",
    "from sklearn.metrics import confusion_matrix, classification_report\n",
    "\n",
    "def print_confusion_matrix(y_true, y_pred, report=True):\n",
    "    labels = sorted(list(set(y_true)))\n",
    "    cmx_data = confusion_matrix(y_true, y_pred, labels=labels)\n",
    "    \n",
    "    df_cmx = pd.DataFrame(cmx_data, index=labels, columns=labels)\n",
    " \n",
    "    fig, ax = plt.subplots(figsize=(7, 6))\n",
    "    sns.heatmap(df_cmx, annot=True, fmt='g' ,square=False)\n",
    "    ax.set_ylim(len(set(y_true)), 0)\n",
    "    plt.show()\n",
    "    \n",
    "    if report:\n",
    "        print('Classification Report')\n",
    "        print(classification_report(y_test, y_pred))\n",
    "\n",
    "Y_pred = model.predict(X_test)\n",
    "y_pred = np.argmax(Y_pred, axis=1)\n",
    "\n",
    "print_confusion_matrix(y_test, y_pred)"
   ]
  },
  {
   "cell_type": "markdown",
   "metadata": {
    "id": "FNP6aqzc9hE5"
   },
   "source": [
    "# Convert to model for Tensorflow-Lite"
   ]
  },
  {
   "cell_type": "code",
   "execution_count": 16,
   "metadata": {
    "id": "ODjnYyld9hE6"
   },
   "outputs": [
    {
     "name": "stderr",
     "output_type": "stream",
     "text": [
      "/home/jungle02/.local/lib/python3.8/site-packages/keras/src/engine/training.py:3000: UserWarning: You are saving your model as an HDF5 file via `model.save()`. This file format is considered legacy. We recommend using instead the native Keras format, e.g. `model.save('my_model.keras')`.\n",
      "  saving_api.save_model(\n"
     ]
    }
   ],
   "source": [
    "# Save as a model dedicated to inference\n",
    "model.save(model_save_path, include_optimizer=False)"
   ]
  },
  {
   "cell_type": "code",
   "execution_count": 17,
   "metadata": {
    "colab": {
     "base_uri": "https://localhost:8080/"
    },
    "id": "zRfuK8Y59hE6",
    "outputId": "a4ca585c-b5d5-4244-8291-8674063209bb"
   },
   "outputs": [
    {
     "name": "stdout",
     "output_type": "stream",
     "text": [
      "INFO:tensorflow:Assets written to: /tmp/tmp9g1m0b5j/assets\n"
     ]
    },
    {
     "name": "stderr",
     "output_type": "stream",
     "text": [
      "INFO:tensorflow:Assets written to: /tmp/tmp9g1m0b5j/assets\n",
      "2024-09-02 05:44:05.128121: W tensorflow/compiler/mlir/lite/python/tf_tfl_flatbuffer_helpers.cc:364] Ignored output_format.\n",
      "2024-09-02 05:44:05.128210: W tensorflow/compiler/mlir/lite/python/tf_tfl_flatbuffer_helpers.cc:367] Ignored drop_control_dependency.\n",
      "2024-09-02 05:44:05.128760: I tensorflow/cc/saved_model/reader.cc:45] Reading SavedModel from: /tmp/tmp9g1m0b5j\n",
      "2024-09-02 05:44:05.129558: I tensorflow/cc/saved_model/reader.cc:91] Reading meta graph with tags { serve }\n",
      "2024-09-02 05:44:05.129581: I tensorflow/cc/saved_model/reader.cc:132] Reading SavedModel debug info (if present) from: /tmp/tmp9g1m0b5j\n",
      "2024-09-02 05:44:05.132826: I tensorflow/compiler/mlir/mlir_graph_optimization_pass.cc:375] MLIR V1 optimization pass is not enabled\n",
      "2024-09-02 05:44:05.133654: I tensorflow/cc/saved_model/loader.cc:231] Restoring SavedModel bundle.\n",
      "2024-09-02 05:44:05.184006: I tensorflow/cc/saved_model/loader.cc:215] Running initialization op on SavedModel bundle at path: /tmp/tmp9g1m0b5j\n",
      "2024-09-02 05:44:05.193648: I tensorflow/cc/saved_model/loader.cc:314] SavedModel load for tags { serve }; Status: success: OK. Took 64894 microseconds.\n",
      "2024-09-02 05:44:05.220781: I tensorflow/compiler/mlir/tensorflow/utils/dump_mlir_util.cc:255] disabling MLIR crash reproducer, set env var `MLIR_CRASH_REPRODUCER_DIRECTORY` to enable.\n"
     ]
    },
    {
     "data": {
      "text/plain": [
       "6676"
      ]
     },
     "execution_count": 17,
     "metadata": {},
     "output_type": "execute_result"
    }
   ],
   "source": [
    "# Transform model (quantization)\n",
    "\n",
    "converter = tf.lite.TFLiteConverter.from_keras_model(model)\n",
    "converter.optimizations = [tf.lite.Optimize.DEFAULT]\n",
    "tflite_quantized_model = converter.convert()\n",
    "\n",
    "open(tflite_save_path, 'wb').write(tflite_quantized_model)"
   ]
  },
  {
   "cell_type": "markdown",
   "metadata": {
    "id": "CHBPBXdx9hE6"
   },
   "source": [
    "# Inference test"
   ]
  },
  {
   "cell_type": "code",
   "execution_count": 18,
   "metadata": {
    "id": "mGAzLocO9hE7"
   },
   "outputs": [],
   "source": [
    "interpreter = tf.lite.Interpreter(model_path=tflite_save_path)\n",
    "interpreter.allocate_tensors()"
   ]
  },
  {
   "cell_type": "code",
   "execution_count": 19,
   "metadata": {
    "id": "oQuDK8YS9hE7"
   },
   "outputs": [],
   "source": [
    "# Get I / O tensor\n",
    "input_details = interpreter.get_input_details()\n",
    "output_details = interpreter.get_output_details()"
   ]
  },
  {
   "cell_type": "code",
   "execution_count": 20,
   "metadata": {
    "id": "2_ixAf_l9hE7"
   },
   "outputs": [
    {
     "name": "stderr",
     "output_type": "stream",
     "text": [
      "INFO: Created TensorFlow Lite XNNPACK delegate for CPU.\n"
     ]
    }
   ],
   "source": [
    "interpreter.set_tensor(input_details[0]['index'], np.array([X_test[0]]))"
   ]
  },
  {
   "cell_type": "code",
   "execution_count": 21,
   "metadata": {
    "colab": {
     "base_uri": "https://localhost:8080/"
    },
    "id": "s4FoAnuc9hE7",
    "outputId": "91f18257-8d8b-4ef3-c558-e9b5f94fabbf",
    "scrolled": true
   },
   "outputs": [
    {
     "name": "stdout",
     "output_type": "stream",
     "text": [
      "CPU times: user 0 ns, sys: 1.59 ms, total: 1.59 ms\n",
      "Wall time: 2.17 ms\n"
     ]
    }
   ],
   "source": [
    "%%time\n",
    "# Inference implementation\n",
    "interpreter.invoke()\n",
    "tflite_results = interpreter.get_tensor(output_details[0]['index'])"
   ]
  },
  {
   "cell_type": "code",
   "execution_count": 22,
   "metadata": {
    "colab": {
     "base_uri": "https://localhost:8080/"
    },
    "id": "vONjp19J9hE8",
    "outputId": "77205e24-fd00-42c4-f7b6-e06e527c2cba"
   },
   "outputs": [
    {
     "name": "stdout",
     "output_type": "stream",
     "text": [
      "[1.2990269e-02 9.7315741e-01 2.9097339e-17 8.4808289e-12 1.3852277e-02\n",
      " 3.2732550e-10 2.7522395e-09]\n",
      "1\n"
     ]
    }
   ],
   "source": [
    "print(np.squeeze(tflite_results))\n",
    "print(np.argmax(np.squeeze(tflite_results)))"
   ]
  }
 ],
 "metadata": {
  "accelerator": "GPU",
  "colab": {
   "collapsed_sections": [],
   "name": "keypoint_classification_EN.ipynb",
   "provenance": [],
   "toc_visible": true
  },
  "kernelspec": {
   "display_name": "Python 3 (ipykernel)",
   "language": "python",
   "name": "python3"
  },
  "language_info": {
   "codemirror_mode": {
    "name": "ipython",
    "version": 3
   },
   "file_extension": ".py",
   "mimetype": "text/x-python",
   "name": "python",
   "nbconvert_exporter": "python",
   "pygments_lexer": "ipython3",
   "version": "3.8.10"
  },
  "vscode": {
   "interpreter": {
    "hash": "916dbcbb3f70747c44a77c7bcd40155683ae19c65e1c03b4aa3499c5328201f1"
   }
  }
 },
 "nbformat": 4,
 "nbformat_minor": 4
}
